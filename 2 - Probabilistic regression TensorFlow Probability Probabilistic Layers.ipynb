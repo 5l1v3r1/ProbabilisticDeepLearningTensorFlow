{
 "cells": [
  {
   "cell_type": "markdown",
   "metadata": {},
   "source": [
    "## 2 - Regression with Probabilistic Layers\n",
    "\n",
    "\n",
    "Much of this material is adapted from the excellent blog post (Regression with Probabilistic Layers in TensorFlow Probability)[https://medium.com/tensorflow/regression-with-probabilistic-layers-in-tensorflow-probability-e46ff5d37baf], from the TensorFlow Probability team.\n",
    "\n",
    "I'll walk through the problem formulation in order to get a handle on two types of uncertainty in machine learning problems and how TensorFlow Probability addresses each."
   ]
  },
  {
   "cell_type": "code",
   "execution_count": 28,
   "metadata": {},
   "outputs": [],
   "source": [
    "from __future__ import absolute_import\n",
    "from __future__ import division\n",
    "from __future__ import print_function\n",
    "\n",
    "from pprint import pprint\n",
    "from typing import Optional, Tuple\n",
    "\n",
    "import matplotlib.pyplot as plt\n",
    "import numpy as np\n",
    "import scipy\n",
    "import seaborn as sns\n",
    "import tensorflow as tf\n",
    "from tensorflow.python import tf2\n",
    "import tensorflow_probability as tfp\n",
    "import pandas as pd\n",
    "\n",
    "\n",
    "sns.reset_defaults()\n",
    "sns.set_context(context='talk',font_scale=0.7)\n",
    "\n",
    "%matplotlib inline\n",
    "\n",
    "tfd = tfp.distributions\n",
    "tf.get_logger().setLevel('ERROR')"
   ]
  },
  {
   "cell_type": "markdown",
   "metadata": {},
   "source": [
    "We've seen how to solve regression problems in TensorFlow 2.0 -- now let's take it into TensorFlow Probability-land! TensorFlow Probability integrates in first-class fashion with TensorFlow 2.0 and allows us to define a model in TensorFlow and optimize it in order to solve a loss function -- like the typical Negative Log Likelihood."
   ]
  },
  {
   "cell_type": "code",
   "execution_count": 29,
   "metadata": {},
   "outputs": [],
   "source": [
    "negloglik = lambda y, rv_y: -rv_y.log_prob(y)"
   ]
  },
  {
   "cell_type": "markdown",
   "metadata": {},
   "source": [
    "Negative-Log Likelihood is an important function that's worth examining in some detail. Here, it means ..."
   ]
  },
  {
   "cell_type": "code",
   "execution_count": 30,
   "metadata": {},
   "outputs": [
    {
     "data": {
      "text/plain": [
       "0.9189385"
      ]
     },
     "execution_count": 30,
     "metadata": {},
     "output_type": "execute_result"
    }
   ],
   "source": [
    "negloglik(0, tfd.Normal(loc=0, scale=1)).numpy()"
   ]
  },
  {
   "cell_type": "code",
   "execution_count": 31,
   "metadata": {},
   "outputs": [
    {
     "data": {
      "text/plain": [
       "1.4189385"
      ]
     },
     "execution_count": 31,
     "metadata": {},
     "output_type": "execute_result"
    }
   ],
   "source": [
    "negloglik(1, tfd.Normal(loc=0, scale=1)).numpy()"
   ]
  },
  {
   "cell_type": "code",
   "execution_count": 32,
   "metadata": {},
   "outputs": [
    {
     "data": {
      "text/plain": [
       "1.4189385"
      ]
     },
     "execution_count": 32,
     "metadata": {},
     "output_type": "execute_result"
    }
   ],
   "source": [
    "negloglik(-1, tfd.Normal(loc=0, scale=1)).numpy()"
   ]
  },
  {
   "cell_type": "code",
   "execution_count": 33,
   "metadata": {},
   "outputs": [
    {
     "data": {
      "text/plain": [
       "array([5.0009189e+03, 5.0918938e+01, 1.4189385e+00, 9.1893852e-01,\n",
       "       1.4189385e+00, 5.0918938e+01, 5.0009189e+03], dtype=float32)"
      ]
     },
     "execution_count": 33,
     "metadata": {},
     "output_type": "execute_result"
    }
   ],
   "source": [
    "negloglik([100, 10, 1, 0, -1, -10, -100], tfd.Normal(loc=0, scale=1)).numpy()"
   ]
  },
  {
   "cell_type": "markdown",
   "metadata": {},
   "source": [
    "This function has the nice property that it tells us how reasonable an observation is, given a probability distribution that we've defined. If we treat the data that we observe as _true_, then we can _learn_ a distribution that _minimizes_ the negative log likelihood across all observed distributions."
   ]
  },
  {
   "cell_type": "markdown",
   "metadata": {},
   "source": [
    "For this problem, let's start from base principles and define our own data set from scratch. We're only going to be working on simple linear regression of **Y** given a one-dimensional **X**."
   ]
  },
  {
   "cell_type": "code",
   "execution_count": 34,
   "metadata": {},
   "outputs": [],
   "source": [
    "w0 = 0.125\n",
    "b0 = 5.\n",
    "x_range = [-20, 60]\n",
    "\n",
    "def load_dataset(n=150, n_tst=150) -> Tuple[np.ndarray, np.ndarray, np.ndarray]:\n",
    "    \"\"\"Load a dataset of length n and a test dataset of length n_test.\"\"\"\n",
    "    np.random.seed(43)\n",
    "    def s(x):\n",
    "        g = (x - x_range[0]) / (x_range[1] - x_range[0])\n",
    "        return 3 * (0.25 + g**2.)\n",
    "    x = (x_range[1] - x_range[0]) * np.random.rand(n) + x_range[0]\n",
    "    eps = np.random.randn(n) * s(x)\n",
    "    y = (w0 * x * (1. + np.sin(x)) + b0) + eps\n",
    "    x = x[..., np.newaxis]\n",
    "    x_tst = np.linspace(*x_range, num=n_tst).astype(np.float32)\n",
    "    x_tst = x_tst[..., np.newaxis]\n",
    "    return y, x, x_tst\n",
    "\n",
    "y, x, x_tst = load_dataset()"
   ]
  },
  {
   "cell_type": "code",
   "execution_count": 35,
   "metadata": {},
   "outputs": [],
   "source": [
    "df = pd.DataFrame(x)\n",
    "df['y'] = y\n",
    "df.columns = ['x', 'y']"
   ]
  },
  {
   "cell_type": "code",
   "execution_count": 36,
   "metadata": {},
   "outputs": [
    {
     "data": {
      "text/html": [
       "<div>\n",
       "<style scoped>\n",
       "    .dataframe tbody tr th:only-of-type {\n",
       "        vertical-align: middle;\n",
       "    }\n",
       "\n",
       "    .dataframe tbody tr th {\n",
       "        vertical-align: top;\n",
       "    }\n",
       "\n",
       "    .dataframe thead th {\n",
       "        text-align: right;\n",
       "    }\n",
       "</style>\n",
       "<table border=\"1\" class=\"dataframe\">\n",
       "  <thead>\n",
       "    <tr style=\"text-align: right;\">\n",
       "      <th></th>\n",
       "      <th>x</th>\n",
       "      <th>y</th>\n",
       "    </tr>\n",
       "  </thead>\n",
       "  <tbody>\n",
       "    <tr>\n",
       "      <th>0</th>\n",
       "      <td>-10.795635</td>\n",
       "      <td>1.982906</td>\n",
       "    </tr>\n",
       "    <tr>\n",
       "      <th>1</th>\n",
       "      <td>28.725323</td>\n",
       "      <td>8.924187</td>\n",
       "    </tr>\n",
       "    <tr>\n",
       "      <th>2</th>\n",
       "      <td>-9.328723</td>\n",
       "      <td>2.955338</td>\n",
       "    </tr>\n",
       "    <tr>\n",
       "      <th>3</th>\n",
       "      <td>-0.752830</td>\n",
       "      <td>4.901770</td>\n",
       "    </tr>\n",
       "    <tr>\n",
       "      <th>4</th>\n",
       "      <td>6.171124</td>\n",
       "      <td>6.323897</td>\n",
       "    </tr>\n",
       "  </tbody>\n",
       "</table>\n",
       "</div>"
      ],
      "text/plain": [
       "           x         y\n",
       "0 -10.795635  1.982906\n",
       "1  28.725323  8.924187\n",
       "2  -9.328723  2.955338\n",
       "3  -0.752830  4.901770\n",
       "4   6.171124  6.323897"
      ]
     },
     "execution_count": 36,
     "metadata": {},
     "output_type": "execute_result"
    }
   ],
   "source": [
    "df.head()"
   ]
  },
  {
   "cell_type": "markdown",
   "metadata": {},
   "source": [
    "Let's take a look at what the relationship between these data looks like."
   ]
  },
  {
   "cell_type": "code",
   "execution_count": 37,
   "metadata": {},
   "outputs": [
    {
     "data": {
      "text/plain": [
       "<seaborn.axisgrid.FacetGrid at 0x137ea9a90>"
      ]
     },
     "execution_count": 37,
     "metadata": {},
     "output_type": "execute_result"
    },
    {
     "data": {
      "image/png": "[encoded data removed]",
      "text/plain": [
       "<Figure size 360x360 with 1 Axes>"
      ]
     },
     "metadata": {
      "needs_background": "light"
     },
     "output_type": "display_data"
    }
   ],
   "source": [
    "sns.relplot(x=\"x\", y=\"y\", data=df)"
   ]
  },
  {
   "cell_type": "markdown",
   "metadata": {},
   "source": [
    "Seems linear enough -- let's build a linear regression model to test it out."
   ]
  },
  {
   "cell_type": "code",
   "execution_count": 38,
   "metadata": {},
   "outputs": [],
   "source": [
    "class PrintDot(tf.keras.callbacks.Callback):\n",
    "    \"\"\"\n",
    "    Display training progress by printing a single dot for \n",
    "    each completed epoch.\n",
    "    \"\"\"\n",
    "    def on_epoch_end(self, epoch, logs) -> None:\n",
    "        \"\"\"\n",
    "        `on_epoc_end` hook to take the epoch number and logs.\n",
    "        This will run whenever the training loop finishes an epoch.\n",
    "        \"\"\"\n",
    "        if epoch % 100 == 0: \n",
    "            print('')\n",
    "        print('.', end='')\n",
    "\n",
    "\n",
    "#  Note that we're explicitly modeling the output of our Dense layer as an input parameter to \n",
    "#  a TensorFlow Probability distribution.\n",
    "model = tf.keras.Sequential([\n",
    "    tf.keras.layers.Dense(1),\n",
    "    tfp.layers.DistributionLambda(lambda t: tfd.Normal(loc=t, scale=1)),\n",
    "])"
   ]
  },
  {
   "cell_type": "markdown",
   "metadata": {},
   "source": [
    "Here, we've specified the Dense layer as outputting the mean of a Normal distribution that has a constant standard deviation of 1."
   ]
  },
  {
   "cell_type": "markdown",
   "metadata": {},
   "source": [
    " "
   ]
  },
  {
   "cell_type": "code",
   "execution_count": 39,
   "metadata": {},
   "outputs": [
    {
     "name": "stdout",
     "output_type": "stream",
     "text": [
      "\n",
      "....................................................................................................\n",
      "....................................................................................................\n",
      "....................................................................................................\n",
      "....................................................................................................\n",
      "....................................................................................................\n",
      "....................................................................................................\n",
      "....................................................................................................\n",
      "....................................................................................................\n",
      "....................................................................................................\n",
      "...................................................................................................."
     ]
    }
   ],
   "source": [
    "model.compile(optimizer=tf.optimizers.RMSprop(0.01), loss='mse')\n",
    "history = model.fit(x, \n",
    "                    y, \n",
    "                    epochs=1000, \n",
    "                    validation_split=0.2,\n",
    "                    verbose=0, \n",
    "                    callbacks=[PrintDot()]\n",
    "                   )"
   ]
  },
  {
   "cell_type": "markdown",
   "metadata": {},
   "source": [
    "By using our `tfp.layers` object in the definition of the model, we manage to create a TensorFlow Probability **Distribution** as our output of calling the model. Compare this to previously, when we simply got a NumPy Array object out."
   ]
  },
  {
   "cell_type": "code",
   "execution_count": 40,
   "metadata": {},
   "outputs": [],
   "source": [
    "yhat = model(x_tst)\n",
    "assert isinstance(yhat, tfd.Distribution)"
   ]
  },
  {
   "cell_type": "markdown",
   "metadata": {},
   "source": [
    "TensorFlow Probability distributions have the nice feature that we can do statistical things on them, like draw samples."
   ]
  },
  {
   "cell_type": "code",
   "execution_count": 41,
   "metadata": {},
   "outputs": [],
   "source": [
    "tensor_draw = yhat.sample(1000)"
   ]
  },
  {
   "cell_type": "code",
   "execution_count": 42,
   "metadata": {},
   "outputs": [
    {
     "data": {
      "text/plain": [
       "TensorShape([1000, 150, 1])"
      ]
     },
     "execution_count": 42,
     "metadata": {},
     "output_type": "execute_result"
    }
   ],
   "source": [
    "tensor_draw.shape"
   ]
  },
  {
   "cell_type": "markdown",
   "metadata": {},
   "source": [
    "So now we have 1,000 draws from each of the distributions learned for our 100 _x_'s. Let's put these into a DataFrame."
   ]
  },
  {
   "cell_type": "code",
   "execution_count": 43,
   "metadata": {},
   "outputs": [],
   "source": [
    "df = pd.DataFrame(tensor_draw.numpy().squeeze())"
   ]
  },
  {
   "cell_type": "code",
   "execution_count": 44,
   "metadata": {},
   "outputs": [
    {
     "data": {
      "text/html": [
       "<div>\n",
       "<style scoped>\n",
       "    .dataframe tbody tr th:only-of-type {\n",
       "        vertical-align: middle;\n",
       "    }\n",
       "\n",
       "    .dataframe tbody tr th {\n",
       "        vertical-align: top;\n",
       "    }\n",
       "\n",
       "    .dataframe thead th {\n",
       "        text-align: right;\n",
       "    }\n",
       "</style>\n",
       "<table border=\"1\" class=\"dataframe\">\n",
       "  <thead>\n",
       "    <tr style=\"text-align: right;\">\n",
       "      <th></th>\n",
       "      <th>0</th>\n",
       "      <th>1</th>\n",
       "      <th>2</th>\n",
       "      <th>3</th>\n",
       "      <th>4</th>\n",
       "      <th>5</th>\n",
       "      <th>6</th>\n",
       "      <th>7</th>\n",
       "      <th>8</th>\n",
       "      <th>9</th>\n",
       "      <th>...</th>\n",
       "      <th>140</th>\n",
       "      <th>141</th>\n",
       "      <th>142</th>\n",
       "      <th>143</th>\n",
       "      <th>144</th>\n",
       "      <th>145</th>\n",
       "      <th>146</th>\n",
       "      <th>147</th>\n",
       "      <th>148</th>\n",
       "      <th>149</th>\n",
       "    </tr>\n",
       "  </thead>\n",
       "  <tbody>\n",
       "    <tr>\n",
       "      <th>0</th>\n",
       "      <td>3.743439</td>\n",
       "      <td>2.594985</td>\n",
       "      <td>2.368073</td>\n",
       "      <td>1.454996</td>\n",
       "      <td>2.066278</td>\n",
       "      <td>2.312316</td>\n",
       "      <td>3.389103</td>\n",
       "      <td>1.566471</td>\n",
       "      <td>3.714202</td>\n",
       "      <td>4.024291</td>\n",
       "      <td>...</td>\n",
       "      <td>12.178270</td>\n",
       "      <td>11.663387</td>\n",
       "      <td>11.908895</td>\n",
       "      <td>12.207467</td>\n",
       "      <td>13.161680</td>\n",
       "      <td>11.529100</td>\n",
       "      <td>12.749466</td>\n",
       "      <td>12.142323</td>\n",
       "      <td>12.300084</td>\n",
       "      <td>13.260086</td>\n",
       "    </tr>\n",
       "    <tr>\n",
       "      <th>1</th>\n",
       "      <td>2.088368</td>\n",
       "      <td>3.758845</td>\n",
       "      <td>1.683089</td>\n",
       "      <td>3.248322</td>\n",
       "      <td>4.785184</td>\n",
       "      <td>3.207542</td>\n",
       "      <td>3.492939</td>\n",
       "      <td>2.911090</td>\n",
       "      <td>2.586649</td>\n",
       "      <td>4.220549</td>\n",
       "      <td>...</td>\n",
       "      <td>12.000922</td>\n",
       "      <td>12.429741</td>\n",
       "      <td>12.223446</td>\n",
       "      <td>14.521267</td>\n",
       "      <td>12.600905</td>\n",
       "      <td>11.163708</td>\n",
       "      <td>11.663797</td>\n",
       "      <td>13.460322</td>\n",
       "      <td>10.710526</td>\n",
       "      <td>12.928866</td>\n",
       "    </tr>\n",
       "    <tr>\n",
       "      <th>2</th>\n",
       "      <td>3.206468</td>\n",
       "      <td>2.252463</td>\n",
       "      <td>4.067160</td>\n",
       "      <td>2.142073</td>\n",
       "      <td>3.351299</td>\n",
       "      <td>3.117531</td>\n",
       "      <td>4.197000</td>\n",
       "      <td>4.069580</td>\n",
       "      <td>1.200316</td>\n",
       "      <td>3.512416</td>\n",
       "      <td>...</td>\n",
       "      <td>11.537065</td>\n",
       "      <td>12.503556</td>\n",
       "      <td>11.609244</td>\n",
       "      <td>11.021598</td>\n",
       "      <td>10.640949</td>\n",
       "      <td>13.256282</td>\n",
       "      <td>11.808645</td>\n",
       "      <td>10.867528</td>\n",
       "      <td>11.459572</td>\n",
       "      <td>12.364587</td>\n",
       "    </tr>\n",
       "    <tr>\n",
       "      <th>3</th>\n",
       "      <td>3.380984</td>\n",
       "      <td>1.442275</td>\n",
       "      <td>1.768357</td>\n",
       "      <td>2.663023</td>\n",
       "      <td>3.325689</td>\n",
       "      <td>2.715928</td>\n",
       "      <td>1.968761</td>\n",
       "      <td>2.694621</td>\n",
       "      <td>4.608152</td>\n",
       "      <td>2.580162</td>\n",
       "      <td>...</td>\n",
       "      <td>10.886249</td>\n",
       "      <td>11.777042</td>\n",
       "      <td>11.877302</td>\n",
       "      <td>12.404982</td>\n",
       "      <td>11.957981</td>\n",
       "      <td>11.411043</td>\n",
       "      <td>11.480783</td>\n",
       "      <td>12.096143</td>\n",
       "      <td>13.361529</td>\n",
       "      <td>10.850049</td>\n",
       "    </tr>\n",
       "    <tr>\n",
       "      <th>4</th>\n",
       "      <td>4.692751</td>\n",
       "      <td>3.268288</td>\n",
       "      <td>1.559794</td>\n",
       "      <td>4.986075</td>\n",
       "      <td>2.043045</td>\n",
       "      <td>0.137963</td>\n",
       "      <td>1.907967</td>\n",
       "      <td>2.929765</td>\n",
       "      <td>3.146504</td>\n",
       "      <td>4.121760</td>\n",
       "      <td>...</td>\n",
       "      <td>12.280664</td>\n",
       "      <td>12.347262</td>\n",
       "      <td>13.087242</td>\n",
       "      <td>11.670654</td>\n",
       "      <td>12.058671</td>\n",
       "      <td>13.080215</td>\n",
       "      <td>9.481645</td>\n",
       "      <td>9.704032</td>\n",
       "      <td>11.957217</td>\n",
       "      <td>12.670099</td>\n",
       "    </tr>\n",
       "  </tbody>\n",
       "</table>\n",
       "<p>5 rows × 150 columns</p>\n",
       "</div>"
      ],
      "text/plain": [
       "        0         1         2         3         4         5         6    \\\n",
       "0  3.743439  2.594985  2.368073  1.454996  2.066278  2.312316  3.389103   \n",
       "1  2.088368  3.758845  1.683089  3.248322  4.785184  3.207542  3.492939   \n",
       "2  3.206468  2.252463  4.067160  2.142073  3.351299  3.117531  4.197000   \n",
       "3  3.380984  1.442275  1.768357  2.663023  3.325689  2.715928  1.968761   \n",
       "4  4.692751  3.268288  1.559794  4.986075  2.043045  0.137963  1.907967   \n",
       "\n",
       "        7         8         9    ...        140        141        142  \\\n",
       "0  1.566471  3.714202  4.024291  ...  12.178270  11.663387  11.908895   \n",
       "1  2.911090  2.586649  4.220549  ...  12.000922  12.429741  12.223446   \n",
       "2  4.069580  1.200316  3.512416  ...  11.537065  12.503556  11.609244   \n",
       "3  2.694621  4.608152  2.580162  ...  10.886249  11.777042  11.877302   \n",
       "4  2.929765  3.146504  4.121760  ...  12.280664  12.347262  13.087242   \n",
       "\n",
       "         143        144        145        146        147        148        149  \n",
       "0  12.207467  13.161680  11.529100  12.749466  12.142323  12.300084  13.260086  \n",
       "1  14.521267  12.600905  11.163708  11.663797  13.460322  10.710526  12.928866  \n",
       "2  11.021598  10.640949  13.256282  11.808645  10.867528  11.459572  12.364587  \n",
       "3  12.404982  11.957981  11.411043  11.480783  12.096143  13.361529  10.850049  \n",
       "4  11.670654  12.058671  13.080215   9.481645   9.704032  11.957217  12.670099  \n",
       "\n",
       "[5 rows x 150 columns]"
      ]
     },
     "execution_count": 44,
     "metadata": {},
     "output_type": "execute_result"
    }
   ],
   "source": [
    "df.head()"
   ]
  },
  {
   "cell_type": "markdown",
   "metadata": {},
   "source": [
    "Let's plot an example draw from this distribution."
   ]
  },
  {
   "cell_type": "code",
   "execution_count": 45,
   "metadata": {},
   "outputs": [
    {
     "data": {
      "text/plain": [
       "<matplotlib.axes._subplots.AxesSubplot at 0x1376a6668>"
      ]
     },
     "execution_count": 45,
     "metadata": {},
     "output_type": "execute_result"
    },
    {
     "data": {
      "image/png": "[encoded data removed]",
      "text/plain": [
       "<Figure size 432x288 with 1 Axes>"
      ]
     },
     "metadata": {
      "needs_background": "light"
     },
     "output_type": "display_data"
    }
   ],
   "source": [
    "df.T[0].plot()"
   ]
  },
  {
   "cell_type": "markdown",
   "metadata": {},
   "source": [
    "That's pretty unstable, but it shows the randomness present in each of the random draws (as well as the constant variance -- note the range of the predictions doesn't seem to change from the first draw to the last."
   ]
  },
  {
   "cell_type": "markdown",
   "metadata": {},
   "source": [
    "Let's plot the mean of all 1,000 draws for each input _x_ as well."
   ]
  },
  {
   "cell_type": "code",
   "execution_count": 46,
   "metadata": {},
   "outputs": [
    {
     "data": {
      "text/plain": [
       "<matplotlib.axes._subplots.AxesSubplot at 0x1377f45c0>"
      ]
     },
     "execution_count": 46,
     "metadata": {},
     "output_type": "execute_result"
    },
    {
     "data": {
      "image/png": "[encoded data removed]",
      "text/plain": [
       "<Figure size 432x288 with 1 Axes>"
      ]
     },
     "metadata": {
      "needs_background": "light"
     },
     "output_type": "display_data"
    }
   ],
   "source": [
    "df.mean().plot()"
   ]
  },
  {
   "cell_type": "markdown",
   "metadata": {},
   "source": [
    "Much better - the mean of the predicted data increases linearly with the size of the input. This matches our intuition."
   ]
  },
  {
   "cell_type": "code",
   "execution_count": 47,
   "metadata": {},
   "outputs": [
    {
     "data": {
      "text/plain": [
       "<matplotlib.axes._subplots.AxesSubplot at 0x13763fbe0>"
      ]
     },
     "execution_count": 47,
     "metadata": {},
     "output_type": "execute_result"
    },
    {
     "data": {
      "image/png": "[encoded data removed]",
      "text/plain": [
       "<Figure size 432x288 with 1 Axes>"
      ]
     },
     "metadata": {
      "needs_background": "light"
     },
     "output_type": "display_data"
    }
   ],
   "source": [
    "df.std().plot()"
   ]
  },
  {
   "cell_type": "markdown",
   "metadata": {},
   "source": [
    "However, as we noted earlier, the standard deviation doesn't seem to change. It looks like it's mostly homoskedastic. Let's check this out, compared to the actual data."
   ]
  },
  {
   "cell_type": "code",
   "execution_count": 48,
   "metadata": {},
   "outputs": [
    {
     "data": {
      "text/plain": [
       "<matplotlib.legend.Legend at 0x1379cf080>"
      ]
     },
     "execution_count": 48,
     "metadata": {},
     "output_type": "execute_result"
    },
    {
     "data": {
      "image/png": "[encoded data removed]",
      "text/plain": [
       "<Figure size 720x612 with 1 Axes>"
      ]
     },
     "metadata": {
      "needs_background": "light"
     },
     "output_type": "display_data"
    }
   ],
   "source": [
    "w = np.squeeze(model.layers[-2].kernel.numpy())\n",
    "b = np.squeeze(model.layers[-2].bias.numpy())\n",
    "\n",
    "plt.figure(figsize=[10, 8.5])  # inches\n",
    "plt.plot(x, y, 'b.', label='observed');\n",
    "plt.plot(x_tst, yhat.mean(),'r', label='mean', linewidth=4);\n",
    "plt.ylim(-0.,17);\n",
    "plt.yticks(np.linspace(0, 15, 4)[1:]);\n",
    "plt.xticks(np.linspace(*x_range, num=9));\n",
    "\n",
    "ax = plt.gca();\n",
    "ax.xaxis.set_ticks_position('bottom')\n",
    "ax.yaxis.set_ticks_position('left')\n",
    "ax.spines['left'].set_position(('data', 0))\n",
    "ax.spines['top'].set_visible(False)\n",
    "ax.spines['right'].set_visible(False)\n",
    "plt.legend(loc='center left', fancybox=True, framealpha=0., bbox_to_anchor=(1.05, 0.5))"
   ]
  },
  {
   "cell_type": "markdown",
   "metadata": {},
   "source": [
    " "
   ]
  },
  {
   "cell_type": "markdown",
   "metadata": {},
   "source": [
    "This looks like an ok model (and it's about as far as we can go with traditional linear regression for these input data), but it's clear that we actually should have a lot _more_ uncertainty as the magnitudes of our input _x_'s increase. "
   ]
  },
  {
   "cell_type": "markdown",
   "metadata": {},
   "source": [
    " "
   ]
  },
  {
   "cell_type": "code",
   "execution_count": 22,
   "metadata": {},
   "outputs": [
    {
     "data": {
      "text/html": [
       "<iframe src=\"https://towardsdatascience.com/assumptions-of-linear-regression-algorithm-ed9ea32224e1\" width=\"1200\" height=\"1000\"></iframe>\n"
      ],
      "text/plain": [
       "<IPython.core.display.HTML object>"
      ]
     },
     "metadata": {},
     "output_type": "display_data"
    }
   ],
   "source": [
    "%%HTML\n",
    "<iframe src=\"https://towardsdatascience.com/assumptions-of-linear-regression-algorithm-ed9ea32224e1\" width=\"1200\" height=\"1000\"></iframe>\n"
   ]
  },
  {
   "cell_type": "markdown",
   "metadata": {},
   "source": [
    " "
   ]
  },
  {
   "cell_type": "markdown",
   "metadata": {},
   "source": [
    "Fortunately, TensorFlow Probability allows us to be more flexible than most traditional formulations of linear regression."
   ]
  },
  {
   "cell_type": "markdown",
   "metadata": {},
   "source": [
    " "
   ]
  },
  {
   "cell_type": "code",
   "execution_count": 49,
   "metadata": {},
   "outputs": [
    {
     "name": "stdout",
     "output_type": "stream",
     "text": [
      "\n",
      "....................................................................................................\n",
      "....................................................................................................\n",
      "....................................................................................................\n",
      "....................................................................................................\n",
      "....................................................................................................\n",
      "....................................................................................................\n",
      "....................................................................................................\n",
      "....................................................................................................\n",
      "....................................................................................................\n",
      "...................................................................................................."
     ]
    }
   ],
   "source": [
    "# Build model.\n",
    "model = tf.keras.Sequential(\n",
    "    [\n",
    "        tf.keras.layers.Dense(1 + 1),  # Output two floats now, instead of just one.\n",
    "        tfp.layers.DistributionLambda(\n",
    "            lambda t: tfd.Normal(\n",
    "                loc=t[..., :1],\n",
    "                scale=1e-3 + tf.math.softplus(0.05 * t[..., 1:])  # Fit the standard deviation to the second term\n",
    "            )\n",
    "        ),\n",
    "    ]\n",
    ")\n",
    "\n",
    "\n",
    "# Due to TensorFlow 2.0 Eager semantics, we can use `negloglik` directly as our loss function.\n",
    "model.compile(optimizer=tf.optimizers.Adam(learning_rate=0.01), loss=negloglik)\n",
    "history = model.fit(\n",
    "    x, \n",
    "    y, \n",
    "    epochs=1000, \n",
    "    validation_split=0.2, \n",
    "    verbose=0,\n",
    "    callbacks=[PrintDot()]\n",
    ")\n",
    "\n",
    "\n",
    "yhat = model(x_tst)\n",
    "assert isinstance(yhat, tfd.Distribution)"
   ]
  },
  {
   "cell_type": "markdown",
   "metadata": {},
   "source": [
    " "
   ]
  },
  {
   "cell_type": "markdown",
   "metadata": {},
   "source": [
    "Let's sample again from our output distribution from calling the model using our `x_tst` data set."
   ]
  },
  {
   "cell_type": "markdown",
   "metadata": {},
   "source": [
    " "
   ]
  },
  {
   "cell_type": "code",
   "execution_count": 50,
   "metadata": {},
   "outputs": [
    {
     "data": {
      "text/html": [
       "<div>\n",
       "<style scoped>\n",
       "    .dataframe tbody tr th:only-of-type {\n",
       "        vertical-align: middle;\n",
       "    }\n",
       "\n",
       "    .dataframe tbody tr th {\n",
       "        vertical-align: top;\n",
       "    }\n",
       "\n",
       "    .dataframe thead th {\n",
       "        text-align: right;\n",
       "    }\n",
       "</style>\n",
       "<table border=\"1\" class=\"dataframe\">\n",
       "  <thead>\n",
       "    <tr style=\"text-align: right;\">\n",
       "      <th></th>\n",
       "      <th>0</th>\n",
       "      <th>1</th>\n",
       "      <th>2</th>\n",
       "      <th>3</th>\n",
       "      <th>4</th>\n",
       "      <th>5</th>\n",
       "      <th>6</th>\n",
       "      <th>7</th>\n",
       "      <th>8</th>\n",
       "      <th>9</th>\n",
       "      <th>...</th>\n",
       "      <th>140</th>\n",
       "      <th>141</th>\n",
       "      <th>142</th>\n",
       "      <th>143</th>\n",
       "      <th>144</th>\n",
       "      <th>145</th>\n",
       "      <th>146</th>\n",
       "      <th>147</th>\n",
       "      <th>148</th>\n",
       "      <th>149</th>\n",
       "    </tr>\n",
       "  </thead>\n",
       "  <tbody>\n",
       "    <tr>\n",
       "      <th>0</th>\n",
       "      <td>2.503850</td>\n",
       "      <td>2.878992</td>\n",
       "      <td>2.760821</td>\n",
       "      <td>2.251455</td>\n",
       "      <td>3.406239</td>\n",
       "      <td>2.272469</td>\n",
       "      <td>3.310126</td>\n",
       "      <td>1.951524</td>\n",
       "      <td>2.742049</td>\n",
       "      <td>2.058079</td>\n",
       "      <td>...</td>\n",
       "      <td>15.558955</td>\n",
       "      <td>6.996440</td>\n",
       "      <td>13.002556</td>\n",
       "      <td>11.781040</td>\n",
       "      <td>13.229470</td>\n",
       "      <td>8.346980</td>\n",
       "      <td>16.701443</td>\n",
       "      <td>12.212471</td>\n",
       "      <td>15.610143</td>\n",
       "      <td>10.671952</td>\n",
       "    </tr>\n",
       "    <tr>\n",
       "      <th>1</th>\n",
       "      <td>2.690962</td>\n",
       "      <td>2.645625</td>\n",
       "      <td>2.697853</td>\n",
       "      <td>2.512396</td>\n",
       "      <td>3.438538</td>\n",
       "      <td>2.361754</td>\n",
       "      <td>3.976254</td>\n",
       "      <td>3.273926</td>\n",
       "      <td>3.237712</td>\n",
       "      <td>2.534383</td>\n",
       "      <td>...</td>\n",
       "      <td>10.321995</td>\n",
       "      <td>10.707735</td>\n",
       "      <td>15.225210</td>\n",
       "      <td>12.368857</td>\n",
       "      <td>12.018968</td>\n",
       "      <td>19.365963</td>\n",
       "      <td>13.152596</td>\n",
       "      <td>10.488011</td>\n",
       "      <td>11.407119</td>\n",
       "      <td>10.458786</td>\n",
       "    </tr>\n",
       "    <tr>\n",
       "      <th>2</th>\n",
       "      <td>1.930299</td>\n",
       "      <td>2.004220</td>\n",
       "      <td>2.187404</td>\n",
       "      <td>2.663320</td>\n",
       "      <td>2.830364</td>\n",
       "      <td>2.952715</td>\n",
       "      <td>2.774894</td>\n",
       "      <td>2.920920</td>\n",
       "      <td>3.021675</td>\n",
       "      <td>2.423136</td>\n",
       "      <td>...</td>\n",
       "      <td>12.133818</td>\n",
       "      <td>15.236716</td>\n",
       "      <td>11.333077</td>\n",
       "      <td>11.956654</td>\n",
       "      <td>13.047451</td>\n",
       "      <td>8.935698</td>\n",
       "      <td>19.182325</td>\n",
       "      <td>12.964445</td>\n",
       "      <td>12.476023</td>\n",
       "      <td>10.473731</td>\n",
       "    </tr>\n",
       "    <tr>\n",
       "      <th>3</th>\n",
       "      <td>1.920550</td>\n",
       "      <td>2.988265</td>\n",
       "      <td>3.266073</td>\n",
       "      <td>2.609514</td>\n",
       "      <td>2.802123</td>\n",
       "      <td>2.874342</td>\n",
       "      <td>2.519532</td>\n",
       "      <td>3.910657</td>\n",
       "      <td>4.076614</td>\n",
       "      <td>2.475118</td>\n",
       "      <td>...</td>\n",
       "      <td>12.703752</td>\n",
       "      <td>10.886079</td>\n",
       "      <td>14.733130</td>\n",
       "      <td>13.046074</td>\n",
       "      <td>15.100611</td>\n",
       "      <td>16.928055</td>\n",
       "      <td>14.744921</td>\n",
       "      <td>10.081667</td>\n",
       "      <td>11.904536</td>\n",
       "      <td>15.756668</td>\n",
       "    </tr>\n",
       "    <tr>\n",
       "      <th>4</th>\n",
       "      <td>2.189154</td>\n",
       "      <td>2.651628</td>\n",
       "      <td>2.720546</td>\n",
       "      <td>3.031859</td>\n",
       "      <td>4.069270</td>\n",
       "      <td>3.540335</td>\n",
       "      <td>2.728074</td>\n",
       "      <td>3.188583</td>\n",
       "      <td>2.683495</td>\n",
       "      <td>2.849363</td>\n",
       "      <td>...</td>\n",
       "      <td>13.139926</td>\n",
       "      <td>13.117467</td>\n",
       "      <td>15.707125</td>\n",
       "      <td>13.122406</td>\n",
       "      <td>9.568974</td>\n",
       "      <td>10.809395</td>\n",
       "      <td>10.582187</td>\n",
       "      <td>17.241711</td>\n",
       "      <td>15.543225</td>\n",
       "      <td>9.073083</td>\n",
       "    </tr>\n",
       "    <tr>\n",
       "      <th>...</th>\n",
       "      <td>...</td>\n",
       "      <td>...</td>\n",
       "      <td>...</td>\n",
       "      <td>...</td>\n",
       "      <td>...</td>\n",
       "      <td>...</td>\n",
       "      <td>...</td>\n",
       "      <td>...</td>\n",
       "      <td>...</td>\n",
       "      <td>...</td>\n",
       "      <td>...</td>\n",
       "      <td>...</td>\n",
       "      <td>...</td>\n",
       "      <td>...</td>\n",
       "      <td>...</td>\n",
       "      <td>...</td>\n",
       "      <td>...</td>\n",
       "      <td>...</td>\n",
       "      <td>...</td>\n",
       "      <td>...</td>\n",
       "      <td>...</td>\n",
       "    </tr>\n",
       "    <tr>\n",
       "      <th>995</th>\n",
       "      <td>2.212630</td>\n",
       "      <td>2.874082</td>\n",
       "      <td>2.954474</td>\n",
       "      <td>2.709651</td>\n",
       "      <td>2.355330</td>\n",
       "      <td>2.912897</td>\n",
       "      <td>2.705017</td>\n",
       "      <td>2.542648</td>\n",
       "      <td>2.771332</td>\n",
       "      <td>3.016126</td>\n",
       "      <td>...</td>\n",
       "      <td>7.263521</td>\n",
       "      <td>14.122633</td>\n",
       "      <td>16.179720</td>\n",
       "      <td>15.800127</td>\n",
       "      <td>14.066721</td>\n",
       "      <td>13.119934</td>\n",
       "      <td>14.173512</td>\n",
       "      <td>7.994541</td>\n",
       "      <td>13.406056</td>\n",
       "      <td>10.732657</td>\n",
       "    </tr>\n",
       "    <tr>\n",
       "      <th>996</th>\n",
       "      <td>3.054197</td>\n",
       "      <td>2.359568</td>\n",
       "      <td>2.651203</td>\n",
       "      <td>2.993461</td>\n",
       "      <td>3.089712</td>\n",
       "      <td>2.642613</td>\n",
       "      <td>2.766196</td>\n",
       "      <td>3.586311</td>\n",
       "      <td>3.594943</td>\n",
       "      <td>3.742361</td>\n",
       "      <td>...</td>\n",
       "      <td>10.547580</td>\n",
       "      <td>10.241517</td>\n",
       "      <td>16.169855</td>\n",
       "      <td>11.945807</td>\n",
       "      <td>10.902972</td>\n",
       "      <td>8.033484</td>\n",
       "      <td>9.283524</td>\n",
       "      <td>11.539461</td>\n",
       "      <td>7.319237</td>\n",
       "      <td>12.014363</td>\n",
       "    </tr>\n",
       "    <tr>\n",
       "      <th>997</th>\n",
       "      <td>2.947054</td>\n",
       "      <td>2.767706</td>\n",
       "      <td>3.075641</td>\n",
       "      <td>3.021335</td>\n",
       "      <td>2.308386</td>\n",
       "      <td>2.735919</td>\n",
       "      <td>2.675010</td>\n",
       "      <td>2.614501</td>\n",
       "      <td>3.355868</td>\n",
       "      <td>3.264056</td>\n",
       "      <td>...</td>\n",
       "      <td>17.180717</td>\n",
       "      <td>9.578860</td>\n",
       "      <td>11.200624</td>\n",
       "      <td>13.549639</td>\n",
       "      <td>13.527918</td>\n",
       "      <td>10.923569</td>\n",
       "      <td>5.178230</td>\n",
       "      <td>8.643313</td>\n",
       "      <td>8.016891</td>\n",
       "      <td>15.176559</td>\n",
       "    </tr>\n",
       "    <tr>\n",
       "      <th>998</th>\n",
       "      <td>2.002128</td>\n",
       "      <td>2.222187</td>\n",
       "      <td>2.422734</td>\n",
       "      <td>3.239608</td>\n",
       "      <td>4.049479</td>\n",
       "      <td>3.107337</td>\n",
       "      <td>2.404431</td>\n",
       "      <td>2.958059</td>\n",
       "      <td>3.110599</td>\n",
       "      <td>2.444954</td>\n",
       "      <td>...</td>\n",
       "      <td>9.165617</td>\n",
       "      <td>14.486652</td>\n",
       "      <td>12.055117</td>\n",
       "      <td>7.701888</td>\n",
       "      <td>13.487988</td>\n",
       "      <td>15.662928</td>\n",
       "      <td>11.233718</td>\n",
       "      <td>7.970200</td>\n",
       "      <td>17.037615</td>\n",
       "      <td>15.380014</td>\n",
       "    </tr>\n",
       "    <tr>\n",
       "      <th>999</th>\n",
       "      <td>2.461102</td>\n",
       "      <td>2.678386</td>\n",
       "      <td>2.519590</td>\n",
       "      <td>2.445114</td>\n",
       "      <td>2.776812</td>\n",
       "      <td>3.923637</td>\n",
       "      <td>2.905541</td>\n",
       "      <td>2.804140</td>\n",
       "      <td>2.779373</td>\n",
       "      <td>3.210742</td>\n",
       "      <td>...</td>\n",
       "      <td>12.809664</td>\n",
       "      <td>10.991113</td>\n",
       "      <td>17.453136</td>\n",
       "      <td>9.940170</td>\n",
       "      <td>11.494059</td>\n",
       "      <td>11.600892</td>\n",
       "      <td>6.920530</td>\n",
       "      <td>13.769179</td>\n",
       "      <td>11.656568</td>\n",
       "      <td>13.073302</td>\n",
       "    </tr>\n",
       "  </tbody>\n",
       "</table>\n",
       "<p>1000 rows × 150 columns</p>\n",
       "</div>"
      ],
      "text/plain": [
       "          0         1         2         3         4         5         6    \\\n",
       "0    2.503850  2.878992  2.760821  2.251455  3.406239  2.272469  3.310126   \n",
       "1    2.690962  2.645625  2.697853  2.512396  3.438538  2.361754  3.976254   \n",
       "2    1.930299  2.004220  2.187404  2.663320  2.830364  2.952715  2.774894   \n",
       "3    1.920550  2.988265  3.266073  2.609514  2.802123  2.874342  2.519532   \n",
       "4    2.189154  2.651628  2.720546  3.031859  4.069270  3.540335  2.728074   \n",
       "..        ...       ...       ...       ...       ...       ...       ...   \n",
       "995  2.212630  2.874082  2.954474  2.709651  2.355330  2.912897  2.705017   \n",
       "996  3.054197  2.359568  2.651203  2.993461  3.089712  2.642613  2.766196   \n",
       "997  2.947054  2.767706  3.075641  3.021335  2.308386  2.735919  2.675010   \n",
       "998  2.002128  2.222187  2.422734  3.239608  4.049479  3.107337  2.404431   \n",
       "999  2.461102  2.678386  2.519590  2.445114  2.776812  3.923637  2.905541   \n",
       "\n",
       "          7         8         9    ...        140        141        142  \\\n",
       "0    1.951524  2.742049  2.058079  ...  15.558955   6.996440  13.002556   \n",
       "1    3.273926  3.237712  2.534383  ...  10.321995  10.707735  15.225210   \n",
       "2    2.920920  3.021675  2.423136  ...  12.133818  15.236716  11.333077   \n",
       "3    3.910657  4.076614  2.475118  ...  12.703752  10.886079  14.733130   \n",
       "4    3.188583  2.683495  2.849363  ...  13.139926  13.117467  15.707125   \n",
       "..        ...       ...       ...  ...        ...        ...        ...   \n",
       "995  2.542648  2.771332  3.016126  ...   7.263521  14.122633  16.179720   \n",
       "996  3.586311  3.594943  3.742361  ...  10.547580  10.241517  16.169855   \n",
       "997  2.614501  3.355868  3.264056  ...  17.180717   9.578860  11.200624   \n",
       "998  2.958059  3.110599  2.444954  ...   9.165617  14.486652  12.055117   \n",
       "999  2.804140  2.779373  3.210742  ...  12.809664  10.991113  17.453136   \n",
       "\n",
       "           143        144        145        146        147        148  \\\n",
       "0    11.781040  13.229470   8.346980  16.701443  12.212471  15.610143   \n",
       "1    12.368857  12.018968  19.365963  13.152596  10.488011  11.407119   \n",
       "2    11.956654  13.047451   8.935698  19.182325  12.964445  12.476023   \n",
       "3    13.046074  15.100611  16.928055  14.744921  10.081667  11.904536   \n",
       "4    13.122406   9.568974  10.809395  10.582187  17.241711  15.543225   \n",
       "..         ...        ...        ...        ...        ...        ...   \n",
       "995  15.800127  14.066721  13.119934  14.173512   7.994541  13.406056   \n",
       "996  11.945807  10.902972   8.033484   9.283524  11.539461   7.319237   \n",
       "997  13.549639  13.527918  10.923569   5.178230   8.643313   8.016891   \n",
       "998   7.701888  13.487988  15.662928  11.233718   7.970200  17.037615   \n",
       "999   9.940170  11.494059  11.600892   6.920530  13.769179  11.656568   \n",
       "\n",
       "           149  \n",
       "0    10.671952  \n",
       "1    10.458786  \n",
       "2    10.473731  \n",
       "3    15.756668  \n",
       "4     9.073083  \n",
       "..         ...  \n",
       "995  10.732657  \n",
       "996  12.014363  \n",
       "997  15.176559  \n",
       "998  15.380014  \n",
       "999  13.073302  \n",
       "\n",
       "[1000 rows x 150 columns]"
      ]
     },
     "execution_count": 50,
     "metadata": {},
     "output_type": "execute_result"
    }
   ],
   "source": [
    "tensor_draw = yhat.sample(1000)\n",
    "pd.DataFrame(tensor_draw.numpy().squeeze())"
   ]
  },
  {
   "cell_type": "markdown",
   "metadata": {},
   "source": [
    "And plot the mean, as before."
   ]
  },
  {
   "cell_type": "code",
   "execution_count": 51,
   "metadata": {},
   "outputs": [
    {
     "data": {
      "text/plain": [
       "<matplotlib.axes._subplots.AxesSubplot at 0x1375015c0>"
      ]
     },
     "execution_count": 51,
     "metadata": {},
     "output_type": "execute_result"
    },
    {
     "data": {
      "image/png": "[encoded data removed]",
      "text/plain": [
       "<Figure size 432x288 with 1 Axes>"
      ]
     },
     "metadata": {
      "needs_background": "light"
     },
     "output_type": "display_data"
    }
   ],
   "source": [
    "df = pd.DataFrame(tensor_draw.numpy().squeeze())\n",
    "df.mean().plot()"
   ]
  },
  {
   "cell_type": "markdown",
   "metadata": {},
   "source": [
    "The mean looks the same as before, maybe a little more wiggly as we get to the higher _x_'s -- that's good."
   ]
  },
  {
   "cell_type": "markdown",
   "metadata": {},
   "source": [
    "How about the standard deviations?"
   ]
  },
  {
   "cell_type": "code",
   "execution_count": 52,
   "metadata": {},
   "outputs": [
    {
     "data": {
      "text/plain": [
       "<matplotlib.axes._subplots.AxesSubplot at 0x139be4ef0>"
      ]
     },
     "execution_count": 52,
     "metadata": {},
     "output_type": "execute_result"
    },
    {
     "data": {
      "image/png": "[encoded data removed]",
      "text/plain": [
       "<Figure size 432x288 with 1 Axes>"
      ]
     },
     "metadata": {
      "needs_background": "light"
     },
     "output_type": "display_data"
    }
   ],
   "source": [
    "df.std().plot()"
   ]
  },
  {
   "cell_type": "markdown",
   "metadata": {},
   "source": [
    "And, we've captured the heteroskedasticity present in our model now! Standard deviation in the distribution that describes the observed random variable appears to be increasing almost linearly with the random variable itself."
   ]
  },
  {
   "cell_type": "code",
   "execution_count": 53,
   "metadata": {},
   "outputs": [
    {
     "data": {
      "text/plain": [
       "(0.39099836, 1.0055791, 1.9777964, 3.2575326)"
      ]
     },
     "execution_count": 53,
     "metadata": {},
     "output_type": "execute_result"
    }
   ],
   "source": [
    "df[0].std(), df[50].std(), df[100].std(), df[149].std()"
   ]
  },
  {
   "cell_type": "markdown",
   "metadata": {},
   "source": [
    "Let's plot to confirm."
   ]
  },
  {
   "cell_type": "code",
   "execution_count": 54,
   "metadata": {},
   "outputs": [
    {
     "data": {
      "image/png": "[encoded data removed]",
      "text/plain": [
       "<Figure size 720x612 with 1 Axes>"
      ]
     },
     "metadata": {
      "needs_background": "light"
     },
     "output_type": "display_data"
    }
   ],
   "source": [
    "plt.figure(figsize=[10, 8.5])\n",
    "plt.plot(x, y, 'b.', label='observed');\n",
    "\n",
    "m = yhat.mean()\n",
    "s = yhat.stddev()\n",
    "\n",
    "plt.plot(x_tst, m, 'r', linewidth=4, label='mean');\n",
    "plt.plot(x_tst, m + 2 * s, 'g', linewidth=2, label=r'mean + 2 stddev');  # +2 standard deviations\n",
    "plt.plot(x_tst, m - 2 * s, 'g', linewidth=2, label=r'mean - 2 stddev');  # -2 standard deviations\n",
    "\n",
    "plt.ylim(-0.,17);\n",
    "plt.yticks(np.linspace(0, 15, 4)[1:]);\n",
    "plt.xticks(np.linspace(*x_range, num=9));\n",
    "\n",
    "ax = plt.gca();\n",
    "ax.xaxis.set_ticks_position('bottom')\n",
    "ax.yaxis.set_ticks_position('left')\n",
    "ax.spines['left'].set_position(('data', 0))\n",
    "ax.spines['top'].set_visible(False)\n",
    "ax.spines['right'].set_visible(False)\n",
    "plt.legend(loc='center left', fancybox=True, framealpha=0., bbox_to_anchor=(1.05, 0.5))\n",
    "\n",
    "plt.savefig('/tmp/fig2.png', bbox_inches='tight', dpi=300)"
   ]
  },
  {
   "cell_type": "markdown",
   "metadata": {},
   "source": [
    "Great! We've appropriately indicated that there's more _variance_ in the model's predictions as it gets further away from zero.\n",
    "\n",
    "This sort of uncertainty is called __aleatoric uncertainty__ -- that is, uncertainty due to the problem itself."
   ]
  },
  {
   "cell_type": "code",
   "execution_count": 103,
   "metadata": {},
   "outputs": [
    {
     "data": {
      "text/html": [
       "<iframe src=\"https://en.wikipedia.org/wiki/Uncertainty_quantification#Aleatoric_and_epistemic_uncertainty\" width=\"900\" height=\"500\"></iframe>\n"
      ],
      "text/plain": [
       "<IPython.core.display.HTML object>"
      ]
     },
     "metadata": {},
     "output_type": "display_data"
    }
   ],
   "source": [
    "%%HTML\n",
    "<iframe src=\"https://en.wikipedia.org/wiki/Uncertainty_quantification#Aleatoric_and_epistemic_uncertainty\" width=\"900\" height=\"500\"></iframe>"
   ]
  },
  {
   "cell_type": "markdown",
   "metadata": {},
   "source": [
    "## Specifying uncertainty in the model slope"
   ]
  },
  {
   "cell_type": "markdown",
   "metadata": {},
   "source": [
    "We've outlined how to capture uncertainty in the model outputs due to the behavior of the data, but what about uncertainty in the model's definition itself? In order to do this, we'll need to replace our previous _Dense_ layer with a _Dense Variational_ layer, using TensorFlow Probability Distributions' nice feature of interoperability with Keras.\n",
    "\n",
    "This is very similar to the previous `DenseVariational` layer we used in the last example."
   ]
  },
  {
   "cell_type": "code",
   "execution_count": 55,
   "metadata": {},
   "outputs": [],
   "source": [
    "def posterior_mean_field(kernel_size: int, bias_size: Optional[int] = 0, dtype: Optional[str] = None) -> tf.keras.Model:\n",
    "    \"\"\"Specify the surrogate posterior over `keras.layers.Dense` `kernel` and `bias`.\"\"\"\n",
    "    n = kernel_size + bias_size\n",
    "    c = np.log(np.expm1(1.))\n",
    "    \n",
    "    return tf.keras.Sequential([\n",
    "      tfp.layers.VariableLayer(2 * n, dtype=dtype),\n",
    "      tfp.layers.DistributionLambda(lambda t: tfd.Independent(\n",
    "          tfd.Normal(loc=t[..., :n],\n",
    "                     scale=1e-5 + tf.nn.softplus(c + t[..., n:])),\n",
    "          reinterpreted_batch_ndims=1)),\n",
    "  ])\n",
    "\n",
    "\n",
    "def prior_trainable(kernel_size: int, bias_size: Optional[int] = 0, dtype: Optional[str] = None) -> tf.keras.Model:\n",
    "    \"\"\"Specify the prior over `keras.layers.Dense` `kernel` and `bias`.\"\"\"\n",
    "    n = kernel_size + bias_size\n",
    "    \n",
    "    return tf.keras.Sequential([\n",
    "      tfp.layers.VariableLayer(n, dtype=dtype),\n",
    "      tfp.layers.DistributionLambda(lambda t: tfd.Independent(\n",
    "          tfd.Normal(loc=t, scale=1),\n",
    "          reinterpreted_batch_ndims=1)),\n",
    "    ])"
   ]
  },
  {
   "cell_type": "markdown",
   "metadata": {},
   "source": [
    "This time, we won't be modeling the aleatoric uncertainty in the model predictions (specified by the distribution standard deviation), but instead focus strictly on the _epistemic_ uncertainty we have in the model's specification."
   ]
  },
  {
   "cell_type": "code",
   "execution_count": 56,
   "metadata": {},
   "outputs": [
    {
     "name": "stdout",
     "output_type": "stream",
     "text": [
      "\n",
      "....................................................................................................\n",
      "....................................................................................................\n",
      "....................................................................................................\n",
      "....................................................................................................\n",
      "....................................................................................................\n",
      "....................................................................................................\n",
      "....................................................................................................\n",
      "....................................................................................................\n",
      "....................................................................................................\n",
      "...................................................................................................."
     ]
    }
   ],
   "source": [
    "# Build model.\n",
    "model = tf.keras.Sequential([\n",
    "  tfp.layers.DenseVariational(1, make_posterior_fn=posterior_mean_field, make_prior_fn=prior_trainable, kl_weight=1/x.shape[0]),\n",
    "  tfp.layers.DistributionLambda(lambda t: tfd.Normal(loc=t, scale=1)),  # Revert back to previous lambda.\n",
    "])\n",
    "\n",
    "\n",
    "model.compile(optimizer=tf.optimizers.Adam(learning_rate=0.01), loss=negloglik)\n",
    "model.fit(x, y, epochs=1000, verbose=False, callbacks=[PrintDot()])\n",
    "\n",
    "yhat = model(x_tst)\n",
    "assert isinstance(yhat, tfd.Distribution)"
   ]
  },
  {
   "cell_type": "markdown",
   "metadata": {},
   "source": [
    " "
   ]
  },
  {
   "cell_type": "markdown",
   "metadata": {},
   "source": [
    "Remember, every time we make a prediction, we'll be defining a new `Distribution` whose mean is our expected slope value for the linear model."
   ]
  },
  {
   "cell_type": "markdown",
   "metadata": {},
   "source": [
    " "
   ]
  },
  {
   "cell_type": "code",
   "execution_count": 57,
   "metadata": {},
   "outputs": [],
   "source": [
    "yhats = [model(x_tst) for _ in range(100)]  # Generate a lot of predictions for each x value."
   ]
  },
  {
   "cell_type": "code",
   "execution_count": 58,
   "metadata": {},
   "outputs": [
    {
     "data": {
      "image/png": "[encoded data removed]",
      "text/plain": [
       "<Figure size 720x612 with 1 Axes>"
      ]
     },
     "metadata": {
      "needs_background": "light"
     },
     "output_type": "display_data"
    }
   ],
   "source": [
    "plt.figure(figsize=[10, 8.5])\n",
    "plt.clf();\n",
    "plt.plot(x, y, 'b.', label='observed');\n",
    "\n",
    "avgm = np.zeros_like(x_tst[..., 0])\n",
    "for i, yhat in enumerate(yhats):\n",
    "    m = np.squeeze(yhat.mean())  # Randomly-drawn slope value.\n",
    "    if i < 25:  # Only plot the first 25 mean slope values\n",
    "        plt.plot(x_tst, m, 'r', label='ensemble means' if i == 0 else None, linewidth=0.5)\n",
    "    avgm += m\n",
    "plt.plot(x_tst, avgm/len(yhats), 'r', label='overall mean', linewidth=4)\n",
    "\n",
    "plt.ylim(-0.,17);\n",
    "plt.yticks(np.linspace(0, 15, 4)[1:]);\n",
    "plt.xticks(np.linspace(*x_range, num=9));\n",
    "\n",
    "ax = plt.gca();\n",
    "ax.xaxis.set_ticks_position('bottom')\n",
    "ax.yaxis.set_ticks_position('left')\n",
    "ax.spines['left'].set_position(('data', 0))\n",
    "ax.spines['top'].set_visible(False)\n",
    "ax.spines['right'].set_visible(False)\n",
    "plt.legend(loc='center left', fancybox=True, framealpha=0., bbox_to_anchor=(1.05, 0.5))\n",
    "\n",
    "plt.savefig('/tmp/fig3.png', bbox_inches='tight', dpi=300)"
   ]
  },
  {
   "cell_type": "markdown",
   "metadata": {},
   "source": [
    "This is great! Now we can show the _range_ of slopes that are potentially available to our model, rather than a simple point estimate for one of them."
   ]
  },
  {
   "cell_type": "code",
   "execution_count": 59,
   "metadata": {},
   "outputs": [
    {
     "data": {
      "text/html": [
       "<div>\n",
       "<style scoped>\n",
       "    .dataframe tbody tr th:only-of-type {\n",
       "        vertical-align: middle;\n",
       "    }\n",
       "\n",
       "    .dataframe tbody tr th {\n",
       "        vertical-align: top;\n",
       "    }\n",
       "\n",
       "    .dataframe thead th {\n",
       "        text-align: right;\n",
       "    }\n",
       "</style>\n",
       "<table border=\"1\" class=\"dataframe\">\n",
       "  <thead>\n",
       "    <tr style=\"text-align: right;\">\n",
       "      <th></th>\n",
       "      <th>0</th>\n",
       "      <th>1</th>\n",
       "      <th>2</th>\n",
       "      <th>3</th>\n",
       "      <th>4</th>\n",
       "      <th>5</th>\n",
       "      <th>6</th>\n",
       "      <th>7</th>\n",
       "      <th>8</th>\n",
       "      <th>9</th>\n",
       "      <th>...</th>\n",
       "      <th>140</th>\n",
       "      <th>141</th>\n",
       "      <th>142</th>\n",
       "      <th>143</th>\n",
       "      <th>144</th>\n",
       "      <th>145</th>\n",
       "      <th>146</th>\n",
       "      <th>147</th>\n",
       "      <th>148</th>\n",
       "      <th>149</th>\n",
       "    </tr>\n",
       "  </thead>\n",
       "  <tbody>\n",
       "    <tr>\n",
       "      <th>0</th>\n",
       "      <td>2.365112</td>\n",
       "      <td>3.950753</td>\n",
       "      <td>3.799677</td>\n",
       "      <td>3.547194</td>\n",
       "      <td>2.024443</td>\n",
       "      <td>2.632611</td>\n",
       "      <td>3.121305</td>\n",
       "      <td>2.379766</td>\n",
       "      <td>3.130592</td>\n",
       "      <td>3.703635</td>\n",
       "      <td>...</td>\n",
       "      <td>10.163624</td>\n",
       "      <td>10.160291</td>\n",
       "      <td>9.936517</td>\n",
       "      <td>9.427786</td>\n",
       "      <td>11.001684</td>\n",
       "      <td>12.368131</td>\n",
       "      <td>11.684737</td>\n",
       "      <td>11.203513</td>\n",
       "      <td>11.098870</td>\n",
       "      <td>11.098699</td>\n",
       "    </tr>\n",
       "    <tr>\n",
       "      <th>1</th>\n",
       "      <td>3.704214</td>\n",
       "      <td>3.735836</td>\n",
       "      <td>2.707388</td>\n",
       "      <td>2.389851</td>\n",
       "      <td>4.278164</td>\n",
       "      <td>3.062727</td>\n",
       "      <td>3.406467</td>\n",
       "      <td>5.060678</td>\n",
       "      <td>2.630968</td>\n",
       "      <td>4.964473</td>\n",
       "      <td>...</td>\n",
       "      <td>10.079107</td>\n",
       "      <td>10.742552</td>\n",
       "      <td>12.129930</td>\n",
       "      <td>12.301349</td>\n",
       "      <td>10.791030</td>\n",
       "      <td>11.821376</td>\n",
       "      <td>9.940975</td>\n",
       "      <td>12.325931</td>\n",
       "      <td>10.503325</td>\n",
       "      <td>10.091892</td>\n",
       "    </tr>\n",
       "    <tr>\n",
       "      <th>2</th>\n",
       "      <td>1.706590</td>\n",
       "      <td>4.255153</td>\n",
       "      <td>2.595290</td>\n",
       "      <td>1.217780</td>\n",
       "      <td>2.897381</td>\n",
       "      <td>4.582904</td>\n",
       "      <td>2.372043</td>\n",
       "      <td>3.910276</td>\n",
       "      <td>3.923867</td>\n",
       "      <td>3.697197</td>\n",
       "      <td>...</td>\n",
       "      <td>10.309312</td>\n",
       "      <td>10.859882</td>\n",
       "      <td>10.985659</td>\n",
       "      <td>11.824131</td>\n",
       "      <td>9.969988</td>\n",
       "      <td>10.403790</td>\n",
       "      <td>12.031357</td>\n",
       "      <td>10.357813</td>\n",
       "      <td>10.862757</td>\n",
       "      <td>11.082565</td>\n",
       "    </tr>\n",
       "    <tr>\n",
       "      <th>3</th>\n",
       "      <td>3.589960</td>\n",
       "      <td>2.812522</td>\n",
       "      <td>5.571974</td>\n",
       "      <td>2.136230</td>\n",
       "      <td>2.589893</td>\n",
       "      <td>4.139970</td>\n",
       "      <td>2.472985</td>\n",
       "      <td>2.804704</td>\n",
       "      <td>1.896771</td>\n",
       "      <td>3.678841</td>\n",
       "      <td>...</td>\n",
       "      <td>9.889838</td>\n",
       "      <td>11.324182</td>\n",
       "      <td>10.146676</td>\n",
       "      <td>11.432600</td>\n",
       "      <td>10.348713</td>\n",
       "      <td>12.523810</td>\n",
       "      <td>9.792992</td>\n",
       "      <td>10.862432</td>\n",
       "      <td>11.647765</td>\n",
       "      <td>11.887716</td>\n",
       "    </tr>\n",
       "    <tr>\n",
       "      <th>4</th>\n",
       "      <td>2.093160</td>\n",
       "      <td>3.409372</td>\n",
       "      <td>4.757385</td>\n",
       "      <td>1.252983</td>\n",
       "      <td>4.018183</td>\n",
       "      <td>2.296921</td>\n",
       "      <td>2.818273</td>\n",
       "      <td>3.799970</td>\n",
       "      <td>4.610075</td>\n",
       "      <td>3.259794</td>\n",
       "      <td>...</td>\n",
       "      <td>10.871166</td>\n",
       "      <td>10.489878</td>\n",
       "      <td>11.485418</td>\n",
       "      <td>9.467108</td>\n",
       "      <td>11.024606</td>\n",
       "      <td>11.971298</td>\n",
       "      <td>11.220137</td>\n",
       "      <td>12.008890</td>\n",
       "      <td>9.636830</td>\n",
       "      <td>11.457079</td>\n",
       "    </tr>\n",
       "    <tr>\n",
       "      <th>...</th>\n",
       "      <td>...</td>\n",
       "      <td>...</td>\n",
       "      <td>...</td>\n",
       "      <td>...</td>\n",
       "      <td>...</td>\n",
       "      <td>...</td>\n",
       "      <td>...</td>\n",
       "      <td>...</td>\n",
       "      <td>...</td>\n",
       "      <td>...</td>\n",
       "      <td>...</td>\n",
       "      <td>...</td>\n",
       "      <td>...</td>\n",
       "      <td>...</td>\n",
       "      <td>...</td>\n",
       "      <td>...</td>\n",
       "      <td>...</td>\n",
       "      <td>...</td>\n",
       "      <td>...</td>\n",
       "      <td>...</td>\n",
       "      <td>...</td>\n",
       "    </tr>\n",
       "    <tr>\n",
       "      <th>995</th>\n",
       "      <td>2.352547</td>\n",
       "      <td>2.686776</td>\n",
       "      <td>3.088268</td>\n",
       "      <td>3.249968</td>\n",
       "      <td>1.564994</td>\n",
       "      <td>0.778251</td>\n",
       "      <td>3.790944</td>\n",
       "      <td>4.497896</td>\n",
       "      <td>3.663735</td>\n",
       "      <td>4.357701</td>\n",
       "      <td>...</td>\n",
       "      <td>10.010338</td>\n",
       "      <td>8.879416</td>\n",
       "      <td>11.002110</td>\n",
       "      <td>9.802390</td>\n",
       "      <td>10.874355</td>\n",
       "      <td>10.242491</td>\n",
       "      <td>12.309061</td>\n",
       "      <td>8.358248</td>\n",
       "      <td>9.917953</td>\n",
       "      <td>12.070835</td>\n",
       "    </tr>\n",
       "    <tr>\n",
       "      <th>996</th>\n",
       "      <td>3.589218</td>\n",
       "      <td>3.980598</td>\n",
       "      <td>2.500355</td>\n",
       "      <td>5.048039</td>\n",
       "      <td>1.284519</td>\n",
       "      <td>2.270769</td>\n",
       "      <td>3.417843</td>\n",
       "      <td>3.807797</td>\n",
       "      <td>4.863784</td>\n",
       "      <td>4.649317</td>\n",
       "      <td>...</td>\n",
       "      <td>11.128053</td>\n",
       "      <td>10.746261</td>\n",
       "      <td>10.882860</td>\n",
       "      <td>10.637171</td>\n",
       "      <td>11.059697</td>\n",
       "      <td>10.044095</td>\n",
       "      <td>11.217949</td>\n",
       "      <td>10.961594</td>\n",
       "      <td>12.410377</td>\n",
       "      <td>11.266992</td>\n",
       "    </tr>\n",
       "    <tr>\n",
       "      <th>997</th>\n",
       "      <td>1.347817</td>\n",
       "      <td>4.344381</td>\n",
       "      <td>2.886722</td>\n",
       "      <td>4.900292</td>\n",
       "      <td>1.890109</td>\n",
       "      <td>3.702084</td>\n",
       "      <td>2.655834</td>\n",
       "      <td>3.691054</td>\n",
       "      <td>3.999481</td>\n",
       "      <td>4.181749</td>\n",
       "      <td>...</td>\n",
       "      <td>8.589960</td>\n",
       "      <td>13.038327</td>\n",
       "      <td>10.314953</td>\n",
       "      <td>10.775243</td>\n",
       "      <td>9.407616</td>\n",
       "      <td>9.507976</td>\n",
       "      <td>10.991207</td>\n",
       "      <td>10.842628</td>\n",
       "      <td>9.100292</td>\n",
       "      <td>10.064693</td>\n",
       "    </tr>\n",
       "    <tr>\n",
       "      <th>998</th>\n",
       "      <td>3.786851</td>\n",
       "      <td>2.859815</td>\n",
       "      <td>2.440956</td>\n",
       "      <td>2.001239</td>\n",
       "      <td>3.382144</td>\n",
       "      <td>2.685288</td>\n",
       "      <td>3.252970</td>\n",
       "      <td>4.434558</td>\n",
       "      <td>2.773381</td>\n",
       "      <td>2.825347</td>\n",
       "      <td>...</td>\n",
       "      <td>10.509903</td>\n",
       "      <td>12.262972</td>\n",
       "      <td>9.732034</td>\n",
       "      <td>10.607671</td>\n",
       "      <td>9.767146</td>\n",
       "      <td>9.840743</td>\n",
       "      <td>9.511959</td>\n",
       "      <td>11.272223</td>\n",
       "      <td>10.148269</td>\n",
       "      <td>10.178113</td>\n",
       "    </tr>\n",
       "    <tr>\n",
       "      <th>999</th>\n",
       "      <td>3.926760</td>\n",
       "      <td>1.870188</td>\n",
       "      <td>2.411012</td>\n",
       "      <td>4.520875</td>\n",
       "      <td>3.222791</td>\n",
       "      <td>2.821886</td>\n",
       "      <td>3.374090</td>\n",
       "      <td>4.144359</td>\n",
       "      <td>4.212703</td>\n",
       "      <td>3.743181</td>\n",
       "      <td>...</td>\n",
       "      <td>10.219179</td>\n",
       "      <td>12.392705</td>\n",
       "      <td>10.518695</td>\n",
       "      <td>11.334785</td>\n",
       "      <td>10.706900</td>\n",
       "      <td>11.887520</td>\n",
       "      <td>9.768079</td>\n",
       "      <td>12.217437</td>\n",
       "      <td>10.867181</td>\n",
       "      <td>9.646820</td>\n",
       "    </tr>\n",
       "  </tbody>\n",
       "</table>\n",
       "<p>1000 rows × 150 columns</p>\n",
       "</div>"
      ],
      "text/plain": [
       "          0         1         2         3         4         5         6    \\\n",
       "0    2.365112  3.950753  3.799677  3.547194  2.024443  2.632611  3.121305   \n",
       "1    3.704214  3.735836  2.707388  2.389851  4.278164  3.062727  3.406467   \n",
       "2    1.706590  4.255153  2.595290  1.217780  2.897381  4.582904  2.372043   \n",
       "3    3.589960  2.812522  5.571974  2.136230  2.589893  4.139970  2.472985   \n",
       "4    2.093160  3.409372  4.757385  1.252983  4.018183  2.296921  2.818273   \n",
       "..        ...       ...       ...       ...       ...       ...       ...   \n",
       "995  2.352547  2.686776  3.088268  3.249968  1.564994  0.778251  3.790944   \n",
       "996  3.589218  3.980598  2.500355  5.048039  1.284519  2.270769  3.417843   \n",
       "997  1.347817  4.344381  2.886722  4.900292  1.890109  3.702084  2.655834   \n",
       "998  3.786851  2.859815  2.440956  2.001239  3.382144  2.685288  3.252970   \n",
       "999  3.926760  1.870188  2.411012  4.520875  3.222791  2.821886  3.374090   \n",
       "\n",
       "          7         8         9    ...        140        141        142  \\\n",
       "0    2.379766  3.130592  3.703635  ...  10.163624  10.160291   9.936517   \n",
       "1    5.060678  2.630968  4.964473  ...  10.079107  10.742552  12.129930   \n",
       "2    3.910276  3.923867  3.697197  ...  10.309312  10.859882  10.985659   \n",
       "3    2.804704  1.896771  3.678841  ...   9.889838  11.324182  10.146676   \n",
       "4    3.799970  4.610075  3.259794  ...  10.871166  10.489878  11.485418   \n",
       "..        ...       ...       ...  ...        ...        ...        ...   \n",
       "995  4.497896  3.663735  4.357701  ...  10.010338   8.879416  11.002110   \n",
       "996  3.807797  4.863784  4.649317  ...  11.128053  10.746261  10.882860   \n",
       "997  3.691054  3.999481  4.181749  ...   8.589960  13.038327  10.314953   \n",
       "998  4.434558  2.773381  2.825347  ...  10.509903  12.262972   9.732034   \n",
       "999  4.144359  4.212703  3.743181  ...  10.219179  12.392705  10.518695   \n",
       "\n",
       "           143        144        145        146        147        148  \\\n",
       "0     9.427786  11.001684  12.368131  11.684737  11.203513  11.098870   \n",
       "1    12.301349  10.791030  11.821376   9.940975  12.325931  10.503325   \n",
       "2    11.824131   9.969988  10.403790  12.031357  10.357813  10.862757   \n",
       "3    11.432600  10.348713  12.523810   9.792992  10.862432  11.647765   \n",
       "4     9.467108  11.024606  11.971298  11.220137  12.008890   9.636830   \n",
       "..         ...        ...        ...        ...        ...        ...   \n",
       "995   9.802390  10.874355  10.242491  12.309061   8.358248   9.917953   \n",
       "996  10.637171  11.059697  10.044095  11.217949  10.961594  12.410377   \n",
       "997  10.775243   9.407616   9.507976  10.991207  10.842628   9.100292   \n",
       "998  10.607671   9.767146   9.840743   9.511959  11.272223  10.148269   \n",
       "999  11.334785  10.706900  11.887520   9.768079  12.217437  10.867181   \n",
       "\n",
       "           149  \n",
       "0    11.098699  \n",
       "1    10.091892  \n",
       "2    11.082565  \n",
       "3    11.887716  \n",
       "4    11.457079  \n",
       "..         ...  \n",
       "995  12.070835  \n",
       "996  11.266992  \n",
       "997  10.064693  \n",
       "998  10.178113  \n",
       "999   9.646820  \n",
       "\n",
       "[1000 rows x 150 columns]"
      ]
     },
     "execution_count": 59,
     "metadata": {},
     "output_type": "execute_result"
    }
   ],
   "source": [
    "tensor_draw = yhat.sample(1000)\n",
    "pd.DataFrame(tensor_draw.numpy().reshape(1000, 150))"
   ]
  },
  {
   "cell_type": "code",
   "execution_count": 62,
   "metadata": {},
   "outputs": [
    {
     "data": {
      "text/plain": [
       "<matplotlib.axes._subplots.AxesSubplot at 0x139cc3ba8>"
      ]
     },
     "execution_count": 62,
     "metadata": {},
     "output_type": "execute_result"
    },
    {
     "data": {
      "image/png": "[encoded data removed]",
      "text/plain": [
       "<Figure size 432x288 with 1 Axes>"
      ]
     },
     "metadata": {
      "needs_background": "light"
     },
     "output_type": "display_data"
    }
   ],
   "source": [
    "df = pd.DataFrame(tensor_draw.numpy().squeeze())\n",
    "df.mean().plot()"
   ]
  },
  {
   "cell_type": "code",
   "execution_count": 63,
   "metadata": {},
   "outputs": [
    {
     "data": {
      "text/plain": [
       "<matplotlib.axes._subplots.AxesSubplot at 0x139d532b0>"
      ]
     },
     "execution_count": 63,
     "metadata": {},
     "output_type": "execute_result"
    },
    {
     "data": {
      "image/png": "[encoded data removed]",
      "text/plain": [
       "<Figure size 432x288 with 1 Axes>"
      ]
     },
     "metadata": {
      "needs_background": "light"
     },
     "output_type": "display_data"
    }
   ],
   "source": [
    "df.std().plot()"
   ]
  },
  {
   "cell_type": "code",
   "execution_count": null,
   "metadata": {},
   "outputs": [],
   "source": []
  }
 ],
 "metadata": {
  "kernelspec": {
   "display_name": "Python 3",
   "language": "python",
   "name": "python3"
  },
  "language_info": {
   "codemirror_mode": {
    "name": "ipython",
    "version": 3
   },
   "file_extension": ".py",
   "mimetype": "text/x-python",
   "name": "python",
   "nbconvert_exporter": "python",
   "pygments_lexer": "ipython3",
   "version": "3.7.2"
  }
 },
 "nbformat": 4,
 "nbformat_minor": 4
}
