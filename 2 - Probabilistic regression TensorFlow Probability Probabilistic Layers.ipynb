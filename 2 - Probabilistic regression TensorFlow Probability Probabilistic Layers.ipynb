{
 "cells": [
  {
   "cell_type": "markdown",
   "metadata": {},
   "source": [
    "## 2 - Simple regression model in TensorFlow Probability\n",
    "\n",
    "\n"
   ]
  },
  {
   "cell_type": "code",
   "execution_count": 23,
   "metadata": {},
   "outputs": [],
   "source": [
    "from __future__ import absolute_import\n",
    "from __future__ import division\n",
    "from __future__ import print_function\n",
    "\n",
    "from pprint import pprint\n",
    "import matplotlib.pyplot as plt\n",
    "import numpy as np\n",
    "import seaborn as sns\n",
    "import pandas as pd\n",
    "\n",
    "import tensorflow as tf\n",
    "from tensorflow.python import tf2\n",
    "\n",
    "import tensorflow_probability as tfp\n",
    "\n",
    "sns.reset_defaults()\n",
    "sns.set_context(context='talk',font_scale=0.7)\n",
    "\n",
    "%matplotlib inline\n",
    "\n",
    "tfd = tfp.distributions"
   ]
  },
  {
   "cell_type": "markdown",
   "metadata": {},
   "source": [
    "We've seen how to solve regression problems in TensorFlow 2.0 -- now let's take it into TensorFlow Probability-land! TensorFlow Probability integrates in first-class fashion with TensorFlow 2.0 and allows us to define a model in TensorFlow and optimize it in order to solve a loss function -- like the typical Negative Log Likelihood."
   ]
  },
  {
   "cell_type": "code",
   "execution_count": 2,
   "metadata": {},
   "outputs": [],
   "source": [
    "negloglik = lambda y, rv_y: -rv_y.log_prob(y)"
   ]
  },
  {
   "cell_type": "markdown",
   "metadata": {},
   "source": [
    "For this problem, let's start from base principles and define our own data set from scratch. We're only going to be working on simple linear regression of **Y** given one *X*."
   ]
  },
  {
   "cell_type": "code",
   "execution_count": 14,
   "metadata": {},
   "outputs": [],
   "source": [
    "w0 = 0.125\n",
    "b0 = 5.\n",
    "x_range = [-20, 60]\n",
    "\n",
    "def load_dataset(n=150, n_tst=150):\n",
    "    np.random.seed(43)\n",
    "    def s(x):\n",
    "        g = (x - x_range[0]) / (x_range[1] - x_range[0])\n",
    "        return 3 * (0.25 + g**2.)\n",
    "    x = (x_range[1] - x_range[0]) * np.random.rand(n) + x_range[0]\n",
    "    eps = np.random.randn(n) * s(x)\n",
    "    y = (w0 * x * (1. + np.sin(x)) + b0) + eps\n",
    "    x = x[..., np.newaxis]\n",
    "    x_tst = np.linspace(*x_range, num=n_tst).astype(np.float32)\n",
    "    x_tst = x_tst[..., np.newaxis]\n",
    "    return y, x, x_tst\n",
    "\n",
    "y, x, x_tst = load_dataset()"
   ]
  },
  {
   "cell_type": "code",
   "execution_count": 26,
   "metadata": {},
   "outputs": [],
   "source": [
    "df = pd.DataFrame(x)\n",
    "df['y'] = y\n",
    "df.columns = ['x', 'y']"
   ]
  },
  {
   "cell_type": "markdown",
   "metadata": {},
   "source": [
    "Let's take a look at what the relationship between these data looks like."
   ]
  },
  {
   "cell_type": "code",
   "execution_count": 28,
   "metadata": {},
   "outputs": [
    {
     "data": {
      "text/plain": [
       "<seaborn.axisgrid.FacetGrid at 0x132099320>"
      ]
     },
     "execution_count": 28,
     "metadata": {},
     "output_type": "execute_result"
    },
    {
     "data": {
      "image/png": "[encoded data removed]",
      "text/plain": [
       "<Figure size 360x360 with 1 Axes>"
      ]
     },
     "metadata": {
      "needs_background": "light"
     },
     "output_type": "display_data"
    }
   ],
   "source": [
    "sns.relplot(x=\"x\", y=\"y\", data=df)"
   ]
  },
  {
   "cell_type": "markdown",
   "metadata": {},
   "source": [
    "Seems linear enough -- let's build a linear regression model to test it out."
   ]
  },
  {
   "cell_type": "code",
   "execution_count": 33,
   "metadata": {},
   "outputs": [
    {
     "name": "stdout",
     "output_type": "stream",
     "text": [
      "\n",
      "....................................................................................................\n",
      "....................................................................................................\n",
      "....................................................................................................\n",
      "....................................................................................................\n",
      "....................................................................................................\n",
      "....................................................................................................\n",
      "....................................................................................................\n",
      "....................................................................................................\n",
      "....................................................................................................\n",
      "...................................................................................................."
     ]
    }
   ],
   "source": [
    "# Display training progress by printing a single dot for each completed epoch\n",
    "class PrintDot(tf.keras.callbacks.Callback):\n",
    "    def on_epoch_end(self, epoch, logs):\n",
    "        if epoch % 100 == 0: print('')\n",
    "        print('.', end='')\n",
    "\n",
    "# Build model.\n",
    "model = tf.keras.Sequential([\n",
    "  tf.keras.layers.Dense(1),\n",
    "  tfp.layers.DistributionLambda(lambda t: tfd.Normal(loc=t, scale=1)),  # Note that we're explicitly modeling the output of our Dense layer as a TensorFlow Probability distribution.\n",
    "])\n",
    "\n",
    "# Do inference.\n",
    "model.compile(optimizer=tf.optimizers.RMSprop(0.01), loss='mse')\n",
    "history = model.fit(x, y, epochs=1000, validation_split = 0.2, verbose=0,\n",
    "  callbacks=[PrintDot()]);\n",
    "\n"
   ]
  },
  {
   "cell_type": "markdown",
   "metadata": {},
   "source": [
    "By using our `tfp.layers` object in the definition of the model, we manage to create a TensorFlow Probability **Distribution** as our output of calling the model. Compare this to previously, when we simply got a NumPy Array object out."
   ]
  },
  {
   "cell_type": "code",
   "execution_count": 32,
   "metadata": {},
   "outputs": [],
   "source": [
    "yhat = model(x_tst)\n",
    "assert isinstance(yhat, tfd.Distribution)"
   ]
  },
  {
   "cell_type": "code",
   "execution_count": 10,
   "metadata": {},
   "outputs": [
    {
     "data": {
      "text/plain": [
       "<tfp.distributions.Normal 'sequential_distribution_lambda_Normal' batch_shape=[150, 1] event_shape=[] dtype=float32>"
      ]
     },
     "execution_count": 10,
     "metadata": {},
     "output_type": "execute_result"
    }
   ],
   "source": [
    "yhat"
   ]
  },
  {
   "cell_type": "markdown",
   "metadata": {},
   "source": [
    "TensorFlow Probability distributions have the nice feature that we can do statistical things on them, like draw samples."
   ]
  },
  {
   "cell_type": "code",
   "execution_count": 34,
   "metadata": {},
   "outputs": [],
   "source": [
    "ten = yhat.sample(1000)"
   ]
  },
  {
   "cell_type": "code",
   "execution_count": 35,
   "metadata": {},
   "outputs": [],
   "source": [
    "df = pd.DataFrame(ten.numpy().reshape(1000, 150))"
   ]
  },
  {
   "cell_type": "code",
   "execution_count": 41,
   "metadata": {},
   "outputs": [
    {
     "data": {
      "text/plain": [
       "array([[-20.       ],\n",
       "       [ -3.8926175],\n",
       "       [ 12.214766 ],\n",
       "       [ 28.322147 ],\n",
       "       [ 44.42953  ]], dtype=float32)"
      ]
     },
     "execution_count": 41,
     "metadata": {},
     "output_type": "execute_result"
    }
   ],
   "source": [
    "x_tst[::30]"
   ]
  },
  {
   "cell_type": "code",
   "execution_count": 36,
   "metadata": {},
   "outputs": [
    {
     "data": {
      "text/html": [
       "<div>\n",
       "<style scoped>\n",
       "    .dataframe tbody tr th:only-of-type {\n",
       "        vertical-align: middle;\n",
       "    }\n",
       "\n",
       "    .dataframe tbody tr th {\n",
       "        vertical-align: top;\n",
       "    }\n",
       "\n",
       "    .dataframe thead th {\n",
       "        text-align: right;\n",
       "    }\n",
       "</style>\n",
       "<table border=\"1\" class=\"dataframe\">\n",
       "  <thead>\n",
       "    <tr style=\"text-align: right;\">\n",
       "      <th></th>\n",
       "      <th>0</th>\n",
       "      <th>1</th>\n",
       "      <th>2</th>\n",
       "      <th>3</th>\n",
       "      <th>4</th>\n",
       "      <th>5</th>\n",
       "      <th>6</th>\n",
       "      <th>7</th>\n",
       "      <th>8</th>\n",
       "      <th>9</th>\n",
       "      <th>...</th>\n",
       "      <th>140</th>\n",
       "      <th>141</th>\n",
       "      <th>142</th>\n",
       "      <th>143</th>\n",
       "      <th>144</th>\n",
       "      <th>145</th>\n",
       "      <th>146</th>\n",
       "      <th>147</th>\n",
       "      <th>148</th>\n",
       "      <th>149</th>\n",
       "    </tr>\n",
       "  </thead>\n",
       "  <tbody>\n",
       "    <tr>\n",
       "      <th>0</th>\n",
       "      <td>1.544733</td>\n",
       "      <td>1.860827</td>\n",
       "      <td>3.134407</td>\n",
       "      <td>2.170182</td>\n",
       "      <td>1.548745</td>\n",
       "      <td>3.106273</td>\n",
       "      <td>2.756859</td>\n",
       "      <td>3.814498</td>\n",
       "      <td>3.283445</td>\n",
       "      <td>3.462998</td>\n",
       "      <td>...</td>\n",
       "      <td>12.000576</td>\n",
       "      <td>12.295212</td>\n",
       "      <td>11.361012</td>\n",
       "      <td>12.945680</td>\n",
       "      <td>10.812623</td>\n",
       "      <td>14.161109</td>\n",
       "      <td>11.446565</td>\n",
       "      <td>12.956407</td>\n",
       "      <td>13.592715</td>\n",
       "      <td>11.196753</td>\n",
       "    </tr>\n",
       "    <tr>\n",
       "      <th>1</th>\n",
       "      <td>1.554664</td>\n",
       "      <td>2.786059</td>\n",
       "      <td>2.373746</td>\n",
       "      <td>1.894328</td>\n",
       "      <td>3.532647</td>\n",
       "      <td>2.171350</td>\n",
       "      <td>4.288656</td>\n",
       "      <td>3.738988</td>\n",
       "      <td>2.320176</td>\n",
       "      <td>2.904801</td>\n",
       "      <td>...</td>\n",
       "      <td>13.215436</td>\n",
       "      <td>10.728210</td>\n",
       "      <td>12.141186</td>\n",
       "      <td>15.291488</td>\n",
       "      <td>11.943602</td>\n",
       "      <td>12.754238</td>\n",
       "      <td>13.210694</td>\n",
       "      <td>10.981981</td>\n",
       "      <td>12.211451</td>\n",
       "      <td>14.370539</td>\n",
       "    </tr>\n",
       "    <tr>\n",
       "      <th>2</th>\n",
       "      <td>1.621750</td>\n",
       "      <td>2.370113</td>\n",
       "      <td>4.870532</td>\n",
       "      <td>2.987027</td>\n",
       "      <td>1.495230</td>\n",
       "      <td>1.824124</td>\n",
       "      <td>3.866048</td>\n",
       "      <td>3.787565</td>\n",
       "      <td>4.132286</td>\n",
       "      <td>2.678154</td>\n",
       "      <td>...</td>\n",
       "      <td>11.758809</td>\n",
       "      <td>12.070890</td>\n",
       "      <td>11.727518</td>\n",
       "      <td>12.544065</td>\n",
       "      <td>11.148698</td>\n",
       "      <td>12.924579</td>\n",
       "      <td>12.258595</td>\n",
       "      <td>12.218261</td>\n",
       "      <td>14.152033</td>\n",
       "      <td>12.605579</td>\n",
       "    </tr>\n",
       "    <tr>\n",
       "      <th>3</th>\n",
       "      <td>0.536005</td>\n",
       "      <td>2.306864</td>\n",
       "      <td>3.568117</td>\n",
       "      <td>0.735339</td>\n",
       "      <td>2.832510</td>\n",
       "      <td>3.819913</td>\n",
       "      <td>2.461787</td>\n",
       "      <td>3.247793</td>\n",
       "      <td>3.612332</td>\n",
       "      <td>2.024112</td>\n",
       "      <td>...</td>\n",
       "      <td>11.681019</td>\n",
       "      <td>12.667989</td>\n",
       "      <td>12.458561</td>\n",
       "      <td>11.317060</td>\n",
       "      <td>12.222528</td>\n",
       "      <td>14.100141</td>\n",
       "      <td>13.012797</td>\n",
       "      <td>11.612029</td>\n",
       "      <td>11.246121</td>\n",
       "      <td>14.986909</td>\n",
       "    </tr>\n",
       "    <tr>\n",
       "      <th>4</th>\n",
       "      <td>2.121671</td>\n",
       "      <td>2.485792</td>\n",
       "      <td>1.953312</td>\n",
       "      <td>1.874979</td>\n",
       "      <td>2.830505</td>\n",
       "      <td>5.915194</td>\n",
       "      <td>2.073532</td>\n",
       "      <td>3.716487</td>\n",
       "      <td>3.811028</td>\n",
       "      <td>4.288152</td>\n",
       "      <td>...</td>\n",
       "      <td>12.462126</td>\n",
       "      <td>13.815883</td>\n",
       "      <td>11.389911</td>\n",
       "      <td>12.783714</td>\n",
       "      <td>11.197717</td>\n",
       "      <td>11.693788</td>\n",
       "      <td>12.598664</td>\n",
       "      <td>12.492978</td>\n",
       "      <td>12.589794</td>\n",
       "      <td>14.642599</td>\n",
       "    </tr>\n",
       "  </tbody>\n",
       "</table>\n",
       "<p>5 rows × 150 columns</p>\n",
       "</div>"
      ],
      "text/plain": [
       "        0         1         2         3         4         5         6    \\\n",
       "0  1.544733  1.860827  3.134407  2.170182  1.548745  3.106273  2.756859   \n",
       "1  1.554664  2.786059  2.373746  1.894328  3.532647  2.171350  4.288656   \n",
       "2  1.621750  2.370113  4.870532  2.987027  1.495230  1.824124  3.866048   \n",
       "3  0.536005  2.306864  3.568117  0.735339  2.832510  3.819913  2.461787   \n",
       "4  2.121671  2.485792  1.953312  1.874979  2.830505  5.915194  2.073532   \n",
       "\n",
       "        7         8         9    ...        140        141        142  \\\n",
       "0  3.814498  3.283445  3.462998  ...  12.000576  12.295212  11.361012   \n",
       "1  3.738988  2.320176  2.904801  ...  13.215436  10.728210  12.141186   \n",
       "2  3.787565  4.132286  2.678154  ...  11.758809  12.070890  11.727518   \n",
       "3  3.247793  3.612332  2.024112  ...  11.681019  12.667989  12.458561   \n",
       "4  3.716487  3.811028  4.288152  ...  12.462126  13.815883  11.389911   \n",
       "\n",
       "         143        144        145        146        147        148        149  \n",
       "0  12.945680  10.812623  14.161109  11.446565  12.956407  13.592715  11.196753  \n",
       "1  15.291488  11.943602  12.754238  13.210694  10.981981  12.211451  14.370539  \n",
       "2  12.544065  11.148698  12.924579  12.258595  12.218261  14.152033  12.605579  \n",
       "3  11.317060  12.222528  14.100141  13.012797  11.612029  11.246121  14.986909  \n",
       "4  12.783714  11.197717  11.693788  12.598664  12.492978  12.589794  14.642599  \n",
       "\n",
       "[5 rows x 150 columns]"
      ]
     },
     "execution_count": 36,
     "metadata": {},
     "output_type": "execute_result"
    }
   ],
   "source": [
    "df.head()"
   ]
  },
  {
   "cell_type": "code",
   "execution_count": 42,
   "metadata": {},
   "outputs": [
    {
     "data": {
      "text/plain": [
       "<matplotlib.axes._subplots.AxesSubplot at 0x12f9e80b8>"
      ]
     },
     "execution_count": 42,
     "metadata": {},
     "output_type": "execute_result"
    },
    {
     "data": {
      "image/png": "[encoded data removed]",
      "text/plain": [
       "<Figure size 432x288 with 1 Axes>"
      ]
     },
     "metadata": {
      "needs_background": "light"
     },
     "output_type": "display_data"
    }
   ],
   "source": [
    "df.mean().plot()"
   ]
  },
  {
   "cell_type": "markdown",
   "metadata": {},
   "source": [
    "So, the mean of the predicted data increases linearly with the size of the input. This matches our intuition."
   ]
  },
  {
   "cell_type": "code",
   "execution_count": 43,
   "metadata": {},
   "outputs": [
    {
     "data": {
      "text/plain": [
       "<matplotlib.axes._subplots.AxesSubplot at 0x13264f828>"
      ]
     },
     "execution_count": 43,
     "metadata": {},
     "output_type": "execute_result"
    },
    {
     "data": {
      "image/png": "[encoded data removed]",
      "text/plain": [
       "<Figure size 432x288 with 1 Axes>"
      ]
     },
     "metadata": {
      "needs_background": "light"
     },
     "output_type": "display_data"
    }
   ],
   "source": [
    "df.std().plot()"
   ]
  },
  {
   "cell_type": "markdown",
   "metadata": {},
   "source": [
    "However, the standard deviation doesn't seem to change. It looks like it's mostly homoskedastic. Let's check this out with the actual data."
   ]
  },
  {
   "cell_type": "code",
   "execution_count": 44,
   "metadata": {},
   "outputs": [
    {
     "data": {
      "image/png": "[encoded data removed]",
      "text/plain": [
       "<Figure size 432x108 with 1 Axes>"
      ]
     },
     "metadata": {
      "needs_background": "light"
     },
     "output_type": "display_data"
    }
   ],
   "source": [
    "w = np.squeeze(model.layers[-2].kernel.numpy())\n",
    "b = np.squeeze(model.layers[-2].bias.numpy())\n",
    "\n",
    "plt.figure(figsize=[6, 1.5])  # inches\n",
    "plt.plot(x, y, 'b.', label='observed');\n",
    "plt.plot(x_tst, yhat.mean(),'r', label='mean', linewidth=4);\n",
    "plt.ylim(-0.,17);\n",
    "plt.yticks(np.linspace(0, 15, 4)[1:]);\n",
    "plt.xticks(np.linspace(*x_range, num=9));\n",
    "\n",
    "ax=plt.gca();\n",
    "ax.xaxis.set_ticks_position('bottom')\n",
    "ax.yaxis.set_ticks_position('left')\n",
    "ax.spines['left'].set_position(('data', 0))\n",
    "ax.spines['top'].set_visible(False)\n",
    "ax.spines['right'].set_visible(False)\n",
    "plt.legend(loc='center left', fancybox=True, framealpha=0., bbox_to_anchor=(1.05, 0.5))\n",
    "\n",
    "plt.savefig('/tmp/fig1.png', bbox_inches='tight', dpi=300)"
   ]
  },
  {
   "cell_type": "markdown",
   "metadata": {},
   "source": [
    "This looks like an ok model (and it's about as far as we can go with traditional linear regression for these input data), but it's clear that we actually should have a lot _more_ uncertainty as the magnitudes of our input x's increase. "
   ]
  },
  {
   "cell_type": "markdown",
   "metadata": {},
   "source": [
    "Adding a little uncertainty"
   ]
  },
  {
   "cell_type": "code",
   "execution_count": 46,
   "metadata": {},
   "outputs": [
    {
     "name": "stdout",
     "output_type": "stream",
     "text": [
      "\n",
      "....................................................................................................\n",
      "....................................................................................................\n",
      "....................................................................................................\n",
      "....................................................................................................\n",
      "....................................................................................................\n",
      "....................................................................................................\n",
      "....................................................................................................\n",
      "....................................................................................................\n",
      "....................................................................................................\n",
      "...................................................................................................."
     ]
    }
   ],
   "source": [
    "# Build model.\n",
    "model = tf.keras.Sequential([\n",
    "  tf.keras.layers.Dense(1 + 1),\n",
    "  tfp.layers.DistributionLambda(\n",
    "      lambda t: tfd.Normal(loc=t[..., :1],\n",
    "                           scale=1e-3 + tf.math.softplus(0.05 * t[...,1:]))),\n",
    "])\n",
    "\n",
    "# Do inference.\n",
    "model.compile(optimizer=tf.optimizers.Adam(learning_rate=0.01), loss=negloglik)  # Note that this step is exactly the same as before, except we changed the loss function being called!\n",
    "history = model.fit(x, y, epochs=1000, validation_split = 0.2, verbose=0,\n",
    "  callbacks=[PrintDot()]);\n",
    "\n",
    "# Profit.\n",
    "yhat = model(x_tst)\n",
    "assert isinstance(yhat, tfd.Distribution)"
   ]
  },
  {
   "cell_type": "code",
   "execution_count": 47,
   "metadata": {},
   "outputs": [
    {
     "data": {
      "text/html": [
       "<div>\n",
       "<style scoped>\n",
       "    .dataframe tbody tr th:only-of-type {\n",
       "        vertical-align: middle;\n",
       "    }\n",
       "\n",
       "    .dataframe tbody tr th {\n",
       "        vertical-align: top;\n",
       "    }\n",
       "\n",
       "    .dataframe thead th {\n",
       "        text-align: right;\n",
       "    }\n",
       "</style>\n",
       "<table border=\"1\" class=\"dataframe\">\n",
       "  <thead>\n",
       "    <tr style=\"text-align: right;\">\n",
       "      <th></th>\n",
       "      <th>0</th>\n",
       "      <th>1</th>\n",
       "      <th>2</th>\n",
       "      <th>3</th>\n",
       "      <th>4</th>\n",
       "      <th>5</th>\n",
       "      <th>6</th>\n",
       "      <th>7</th>\n",
       "      <th>8</th>\n",
       "      <th>9</th>\n",
       "      <th>...</th>\n",
       "      <th>140</th>\n",
       "      <th>141</th>\n",
       "      <th>142</th>\n",
       "      <th>143</th>\n",
       "      <th>144</th>\n",
       "      <th>145</th>\n",
       "      <th>146</th>\n",
       "      <th>147</th>\n",
       "      <th>148</th>\n",
       "      <th>149</th>\n",
       "    </tr>\n",
       "  </thead>\n",
       "  <tbody>\n",
       "    <tr>\n",
       "      <th>0</th>\n",
       "      <td>2.928053</td>\n",
       "      <td>2.368765</td>\n",
       "      <td>1.861968</td>\n",
       "      <td>3.355159</td>\n",
       "      <td>2.592629</td>\n",
       "      <td>2.655148</td>\n",
       "      <td>1.993174</td>\n",
       "      <td>2.901541</td>\n",
       "      <td>2.925207</td>\n",
       "      <td>3.288276</td>\n",
       "      <td>...</td>\n",
       "      <td>11.364669</td>\n",
       "      <td>16.876772</td>\n",
       "      <td>14.248578</td>\n",
       "      <td>10.314631</td>\n",
       "      <td>14.343067</td>\n",
       "      <td>11.044865</td>\n",
       "      <td>13.495032</td>\n",
       "      <td>14.514527</td>\n",
       "      <td>13.267918</td>\n",
       "      <td>13.298943</td>\n",
       "    </tr>\n",
       "    <tr>\n",
       "      <th>1</th>\n",
       "      <td>2.717953</td>\n",
       "      <td>2.268754</td>\n",
       "      <td>2.567499</td>\n",
       "      <td>2.548288</td>\n",
       "      <td>3.108703</td>\n",
       "      <td>3.413827</td>\n",
       "      <td>2.543835</td>\n",
       "      <td>2.915479</td>\n",
       "      <td>2.140433</td>\n",
       "      <td>2.768120</td>\n",
       "      <td>...</td>\n",
       "      <td>14.178868</td>\n",
       "      <td>11.603724</td>\n",
       "      <td>11.045246</td>\n",
       "      <td>8.669735</td>\n",
       "      <td>11.957632</td>\n",
       "      <td>7.761427</td>\n",
       "      <td>13.758648</td>\n",
       "      <td>12.421066</td>\n",
       "      <td>12.001439</td>\n",
       "      <td>18.463144</td>\n",
       "    </tr>\n",
       "    <tr>\n",
       "      <th>2</th>\n",
       "      <td>2.149928</td>\n",
       "      <td>3.169148</td>\n",
       "      <td>2.669223</td>\n",
       "      <td>2.579956</td>\n",
       "      <td>3.023014</td>\n",
       "      <td>2.193494</td>\n",
       "      <td>3.018431</td>\n",
       "      <td>1.967959</td>\n",
       "      <td>2.901355</td>\n",
       "      <td>2.712081</td>\n",
       "      <td>...</td>\n",
       "      <td>12.347519</td>\n",
       "      <td>14.714731</td>\n",
       "      <td>11.935478</td>\n",
       "      <td>8.294392</td>\n",
       "      <td>17.362171</td>\n",
       "      <td>12.383027</td>\n",
       "      <td>14.417746</td>\n",
       "      <td>12.622488</td>\n",
       "      <td>12.751778</td>\n",
       "      <td>13.904662</td>\n",
       "    </tr>\n",
       "    <tr>\n",
       "      <th>3</th>\n",
       "      <td>3.370398</td>\n",
       "      <td>3.242937</td>\n",
       "      <td>2.264990</td>\n",
       "      <td>2.151198</td>\n",
       "      <td>3.185965</td>\n",
       "      <td>3.080117</td>\n",
       "      <td>2.902607</td>\n",
       "      <td>3.619918</td>\n",
       "      <td>2.773715</td>\n",
       "      <td>3.334933</td>\n",
       "      <td>...</td>\n",
       "      <td>12.232836</td>\n",
       "      <td>14.770294</td>\n",
       "      <td>13.969912</td>\n",
       "      <td>11.796305</td>\n",
       "      <td>14.540228</td>\n",
       "      <td>13.294010</td>\n",
       "      <td>11.922236</td>\n",
       "      <td>10.755639</td>\n",
       "      <td>10.398666</td>\n",
       "      <td>9.664621</td>\n",
       "    </tr>\n",
       "    <tr>\n",
       "      <th>4</th>\n",
       "      <td>2.240905</td>\n",
       "      <td>2.569131</td>\n",
       "      <td>2.452543</td>\n",
       "      <td>3.078751</td>\n",
       "      <td>3.127448</td>\n",
       "      <td>3.535044</td>\n",
       "      <td>2.589013</td>\n",
       "      <td>2.603511</td>\n",
       "      <td>1.733986</td>\n",
       "      <td>3.066860</td>\n",
       "      <td>...</td>\n",
       "      <td>11.316258</td>\n",
       "      <td>10.796313</td>\n",
       "      <td>11.813175</td>\n",
       "      <td>16.907585</td>\n",
       "      <td>12.926741</td>\n",
       "      <td>11.041100</td>\n",
       "      <td>10.319795</td>\n",
       "      <td>15.872639</td>\n",
       "      <td>15.568388</td>\n",
       "      <td>16.075218</td>\n",
       "    </tr>\n",
       "    <tr>\n",
       "      <th>...</th>\n",
       "      <td>...</td>\n",
       "      <td>...</td>\n",
       "      <td>...</td>\n",
       "      <td>...</td>\n",
       "      <td>...</td>\n",
       "      <td>...</td>\n",
       "      <td>...</td>\n",
       "      <td>...</td>\n",
       "      <td>...</td>\n",
       "      <td>...</td>\n",
       "      <td>...</td>\n",
       "      <td>...</td>\n",
       "      <td>...</td>\n",
       "      <td>...</td>\n",
       "      <td>...</td>\n",
       "      <td>...</td>\n",
       "      <td>...</td>\n",
       "      <td>...</td>\n",
       "      <td>...</td>\n",
       "      <td>...</td>\n",
       "      <td>...</td>\n",
       "    </tr>\n",
       "    <tr>\n",
       "      <th>995</th>\n",
       "      <td>1.573956</td>\n",
       "      <td>2.798611</td>\n",
       "      <td>2.198146</td>\n",
       "      <td>2.497067</td>\n",
       "      <td>2.524860</td>\n",
       "      <td>2.442246</td>\n",
       "      <td>3.492317</td>\n",
       "      <td>2.488231</td>\n",
       "      <td>2.509146</td>\n",
       "      <td>3.122231</td>\n",
       "      <td>...</td>\n",
       "      <td>12.972382</td>\n",
       "      <td>11.649618</td>\n",
       "      <td>11.885075</td>\n",
       "      <td>12.816072</td>\n",
       "      <td>11.666939</td>\n",
       "      <td>11.825907</td>\n",
       "      <td>12.425867</td>\n",
       "      <td>13.095071</td>\n",
       "      <td>15.170846</td>\n",
       "      <td>13.327527</td>\n",
       "    </tr>\n",
       "    <tr>\n",
       "      <th>996</th>\n",
       "      <td>2.725618</td>\n",
       "      <td>2.581771</td>\n",
       "      <td>2.819297</td>\n",
       "      <td>2.733663</td>\n",
       "      <td>3.193517</td>\n",
       "      <td>2.332372</td>\n",
       "      <td>2.564599</td>\n",
       "      <td>3.423180</td>\n",
       "      <td>3.475048</td>\n",
       "      <td>3.516228</td>\n",
       "      <td>...</td>\n",
       "      <td>9.471350</td>\n",
       "      <td>12.937387</td>\n",
       "      <td>13.320050</td>\n",
       "      <td>13.930697</td>\n",
       "      <td>12.331967</td>\n",
       "      <td>15.002879</td>\n",
       "      <td>11.113768</td>\n",
       "      <td>10.489434</td>\n",
       "      <td>14.729620</td>\n",
       "      <td>13.628157</td>\n",
       "    </tr>\n",
       "    <tr>\n",
       "      <th>997</th>\n",
       "      <td>1.867131</td>\n",
       "      <td>2.486626</td>\n",
       "      <td>2.609945</td>\n",
       "      <td>2.900636</td>\n",
       "      <td>2.542017</td>\n",
       "      <td>2.422646</td>\n",
       "      <td>2.998107</td>\n",
       "      <td>3.530543</td>\n",
       "      <td>2.906350</td>\n",
       "      <td>3.076818</td>\n",
       "      <td>...</td>\n",
       "      <td>9.994440</td>\n",
       "      <td>15.094827</td>\n",
       "      <td>8.194059</td>\n",
       "      <td>13.868344</td>\n",
       "      <td>12.610603</td>\n",
       "      <td>13.399127</td>\n",
       "      <td>16.376791</td>\n",
       "      <td>11.439997</td>\n",
       "      <td>14.616704</td>\n",
       "      <td>14.087389</td>\n",
       "    </tr>\n",
       "    <tr>\n",
       "      <th>998</th>\n",
       "      <td>2.382165</td>\n",
       "      <td>2.714376</td>\n",
       "      <td>2.764950</td>\n",
       "      <td>1.916037</td>\n",
       "      <td>2.637582</td>\n",
       "      <td>2.799376</td>\n",
       "      <td>3.176094</td>\n",
       "      <td>3.044058</td>\n",
       "      <td>3.551960</td>\n",
       "      <td>3.589753</td>\n",
       "      <td>...</td>\n",
       "      <td>14.618747</td>\n",
       "      <td>11.328932</td>\n",
       "      <td>12.998150</td>\n",
       "      <td>15.369312</td>\n",
       "      <td>10.878214</td>\n",
       "      <td>12.747065</td>\n",
       "      <td>13.702252</td>\n",
       "      <td>9.684857</td>\n",
       "      <td>7.707679</td>\n",
       "      <td>8.836574</td>\n",
       "    </tr>\n",
       "    <tr>\n",
       "      <th>999</th>\n",
       "      <td>2.535419</td>\n",
       "      <td>2.317470</td>\n",
       "      <td>2.349540</td>\n",
       "      <td>2.977598</td>\n",
       "      <td>3.233648</td>\n",
       "      <td>2.763878</td>\n",
       "      <td>3.105970</td>\n",
       "      <td>2.093529</td>\n",
       "      <td>2.767263</td>\n",
       "      <td>3.495965</td>\n",
       "      <td>...</td>\n",
       "      <td>13.347776</td>\n",
       "      <td>10.332639</td>\n",
       "      <td>16.090460</td>\n",
       "      <td>12.953670</td>\n",
       "      <td>14.233539</td>\n",
       "      <td>10.092901</td>\n",
       "      <td>15.525068</td>\n",
       "      <td>16.682755</td>\n",
       "      <td>10.888264</td>\n",
       "      <td>16.118740</td>\n",
       "    </tr>\n",
       "  </tbody>\n",
       "</table>\n",
       "<p>1000 rows × 150 columns</p>\n",
       "</div>"
      ],
      "text/plain": [
       "          0         1         2         3         4         5         6    \\\n",
       "0    2.928053  2.368765  1.861968  3.355159  2.592629  2.655148  1.993174   \n",
       "1    2.717953  2.268754  2.567499  2.548288  3.108703  3.413827  2.543835   \n",
       "2    2.149928  3.169148  2.669223  2.579956  3.023014  2.193494  3.018431   \n",
       "3    3.370398  3.242937  2.264990  2.151198  3.185965  3.080117  2.902607   \n",
       "4    2.240905  2.569131  2.452543  3.078751  3.127448  3.535044  2.589013   \n",
       "..        ...       ...       ...       ...       ...       ...       ...   \n",
       "995  1.573956  2.798611  2.198146  2.497067  2.524860  2.442246  3.492317   \n",
       "996  2.725618  2.581771  2.819297  2.733663  3.193517  2.332372  2.564599   \n",
       "997  1.867131  2.486626  2.609945  2.900636  2.542017  2.422646  2.998107   \n",
       "998  2.382165  2.714376  2.764950  1.916037  2.637582  2.799376  3.176094   \n",
       "999  2.535419  2.317470  2.349540  2.977598  3.233648  2.763878  3.105970   \n",
       "\n",
       "          7         8         9    ...        140        141        142  \\\n",
       "0    2.901541  2.925207  3.288276  ...  11.364669  16.876772  14.248578   \n",
       "1    2.915479  2.140433  2.768120  ...  14.178868  11.603724  11.045246   \n",
       "2    1.967959  2.901355  2.712081  ...  12.347519  14.714731  11.935478   \n",
       "3    3.619918  2.773715  3.334933  ...  12.232836  14.770294  13.969912   \n",
       "4    2.603511  1.733986  3.066860  ...  11.316258  10.796313  11.813175   \n",
       "..        ...       ...       ...  ...        ...        ...        ...   \n",
       "995  2.488231  2.509146  3.122231  ...  12.972382  11.649618  11.885075   \n",
       "996  3.423180  3.475048  3.516228  ...   9.471350  12.937387  13.320050   \n",
       "997  3.530543  2.906350  3.076818  ...   9.994440  15.094827   8.194059   \n",
       "998  3.044058  3.551960  3.589753  ...  14.618747  11.328932  12.998150   \n",
       "999  2.093529  2.767263  3.495965  ...  13.347776  10.332639  16.090460   \n",
       "\n",
       "           143        144        145        146        147        148  \\\n",
       "0    10.314631  14.343067  11.044865  13.495032  14.514527  13.267918   \n",
       "1     8.669735  11.957632   7.761427  13.758648  12.421066  12.001439   \n",
       "2     8.294392  17.362171  12.383027  14.417746  12.622488  12.751778   \n",
       "3    11.796305  14.540228  13.294010  11.922236  10.755639  10.398666   \n",
       "4    16.907585  12.926741  11.041100  10.319795  15.872639  15.568388   \n",
       "..         ...        ...        ...        ...        ...        ...   \n",
       "995  12.816072  11.666939  11.825907  12.425867  13.095071  15.170846   \n",
       "996  13.930697  12.331967  15.002879  11.113768  10.489434  14.729620   \n",
       "997  13.868344  12.610603  13.399127  16.376791  11.439997  14.616704   \n",
       "998  15.369312  10.878214  12.747065  13.702252   9.684857   7.707679   \n",
       "999  12.953670  14.233539  10.092901  15.525068  16.682755  10.888264   \n",
       "\n",
       "           149  \n",
       "0    13.298943  \n",
       "1    18.463144  \n",
       "2    13.904662  \n",
       "3     9.664621  \n",
       "4    16.075218  \n",
       "..         ...  \n",
       "995  13.327527  \n",
       "996  13.628157  \n",
       "997  14.087389  \n",
       "998   8.836574  \n",
       "999  16.118740  \n",
       "\n",
       "[1000 rows x 150 columns]"
      ]
     },
     "execution_count": 47,
     "metadata": {},
     "output_type": "execute_result"
    }
   ],
   "source": [
    "ten = yhat.sample(1000)\n",
    "pd.DataFrame(ten.numpy().reshape(1000, 150))"
   ]
  },
  {
   "cell_type": "code",
   "execution_count": 48,
   "metadata": {},
   "outputs": [
    {
     "data": {
      "text/plain": [
       "<matplotlib.axes._subplots.AxesSubplot at 0x12fcd3048>"
      ]
     },
     "execution_count": 48,
     "metadata": {},
     "output_type": "execute_result"
    },
    {
     "data": {
      "image/png": "[encoded data removed]",
      "text/plain": [
       "<Figure size 432x288 with 1 Axes>"
      ]
     },
     "metadata": {
      "needs_background": "light"
     },
     "output_type": "display_data"
    }
   ],
   "source": [
    "df = pd.DataFrame(ten.numpy().reshape(1000, 150))\n",
    "df.mean().plot()"
   ]
  },
  {
   "cell_type": "markdown",
   "metadata": {},
   "source": [
    "The mean looks the same as before -- that's good."
   ]
  },
  {
   "cell_type": "code",
   "execution_count": 131,
   "metadata": {},
   "outputs": [
    {
     "data": {
      "text/plain": [
       "<matplotlib.axes._subplots.AxesSubplot at 0x13953d9e8>"
      ]
     },
     "execution_count": 131,
     "metadata": {},
     "output_type": "execute_result"
    },
    {
     "data": {
      "image/png": "[encoded data removed]",
      "text/plain": [
       "<Figure size 432x288 with 1 Axes>"
      ]
     },
     "metadata": {
      "needs_background": "light"
     },
     "output_type": "display_data"
    }
   ],
   "source": [
    "df.std().plot()"
   ]
  },
  {
   "cell_type": "markdown",
   "metadata": {},
   "source": [
    "And, we've captured the heteroskedasticity present in our model now!"
   ]
  },
  {
   "cell_type": "code",
   "execution_count": 49,
   "metadata": {},
   "outputs": [
    {
     "data": {
      "image/png": "[encoded data removed]",
      "text/plain": [
       "<Figure size 432x108 with 1 Axes>"
      ]
     },
     "metadata": {
      "needs_background": "light"
     },
     "output_type": "display_data"
    }
   ],
   "source": [
    "plt.figure(figsize=[6, 1.5])\n",
    "plt.plot(x, y, 'b.', label='observed');\n",
    "\n",
    "m = yhat.mean()\n",
    "s = yhat.stddev()\n",
    "\n",
    "plt.plot(x_tst, m, 'r', linewidth=4, label='mean');\n",
    "plt.plot(x_tst, m + 2 * s, 'g', linewidth=2, label=r'mean + 2 stddev');\n",
    "plt.plot(x_tst, m - 2 * s, 'g', linewidth=2, label=r'mean - 2 stddev');\n",
    "\n",
    "plt.ylim(-0.,17);\n",
    "plt.yticks(np.linspace(0, 15, 4)[1:]);\n",
    "plt.xticks(np.linspace(*x_range, num=9));\n",
    "\n",
    "ax=plt.gca();\n",
    "ax.xaxis.set_ticks_position('bottom')\n",
    "ax.yaxis.set_ticks_position('left')\n",
    "ax.spines['left'].set_position(('data', 0))\n",
    "ax.spines['top'].set_visible(False)\n",
    "ax.spines['right'].set_visible(False)\n",
    "plt.legend(loc='center left', fancybox=True, framealpha=0., bbox_to_anchor=(1.05, 0.5))\n",
    "\n",
    "plt.savefig('/tmp/fig2.png', bbox_inches='tight', dpi=300)"
   ]
  },
  {
   "cell_type": "markdown",
   "metadata": {},
   "source": [
    "Great! We've appropriately indicated that there's more _variance_ in the model as it gets further away from zero."
   ]
  },
  {
   "cell_type": "markdown",
   "metadata": {},
   "source": [
    "## Specifying uncertainty in the model slope"
   ]
  },
  {
   "cell_type": "markdown",
   "metadata": {},
   "source": [
    "We've outlined how to capture uncertainty in the model outputs, but what about uncertainty in the model's definition itself? In order to do this, we'll need to replace our previous _Dense_ layer with a _Dense Variational_ layer, using TensorFlow Probability Distributions' nice feature of interoperability with Keras."
   ]
  },
  {
   "cell_type": "code",
   "execution_count": 51,
   "metadata": {},
   "outputs": [],
   "source": [
    "# Specify the surrogate posterior over `keras.layers.Dense` `kernel` and `bias`.\n",
    "\n",
    "def posterior_mean_field(kernel_size, bias_size=0, dtype=None):\n",
    "    n = kernel_size + bias_size\n",
    "    c = np.log(np.expm1(1.))\n",
    "    return tf.keras.Sequential([\n",
    "      tfp.layers.VariableLayer(2 * n, dtype=dtype),\n",
    "      tfp.layers.DistributionLambda(lambda t: tfd.Independent(\n",
    "          tfd.Normal(loc=t[..., :n],\n",
    "                     scale=1e-5 + tf.nn.softplus(c + t[..., n:])),\n",
    "          reinterpreted_batch_ndims=1)),\n",
    "  ])"
   ]
  },
  {
   "cell_type": "code",
   "execution_count": 52,
   "metadata": {},
   "outputs": [],
   "source": [
    "# Specify the prior over `keras.layers.Dense` `kernel` and `bias`.\n",
    "\n",
    "def prior_trainable(kernel_size, bias_size=0, dtype=None):\n",
    "    n = kernel_size + bias_size\n",
    "    return tf.keras.Sequential([\n",
    "      tfp.layers.VariableLayer(n, dtype=dtype),\n",
    "      tfp.layers.DistributionLambda(lambda t: tfd.Independent(\n",
    "          tfd.Normal(loc=t, scale=1),\n",
    "          reinterpreted_batch_ndims=1)),\n",
    "    ])"
   ]
  },
  {
   "cell_type": "code",
   "execution_count": 53,
   "metadata": {},
   "outputs": [],
   "source": [
    "# Build model.\n",
    "model = tf.keras.Sequential([\n",
    "  tfp.layers.DenseVariational(1, make_posterior_fn=posterior_mean_field, make_prior_fn=prior_trainable, kl_weight=1/x.shape[0]),\n",
    "  tfp.layers.DistributionLambda(lambda t: tfd.Normal(loc=t, scale=1)),\n",
    "])\n",
    "\n",
    "# Do inference.\n",
    "model.compile(optimizer=tf.optimizers.Adam(learning_rate=0.01), loss=negloglik)\n",
    "model.fit(x, y, epochs=1000, verbose=False);\n",
    "\n",
    "# Profit.\n",
    "yhat = model(x_tst)\n",
    "assert isinstance(yhat, tfd.Distribution)"
   ]
  },
  {
   "cell_type": "code",
   "execution_count": 54,
   "metadata": {},
   "outputs": [
    {
     "data": {
      "image/png": "[encoded data removed]",
      "text/plain": [
       "<Figure size 432x108 with 1 Axes>"
      ]
     },
     "metadata": {
      "needs_background": "light"
     },
     "output_type": "display_data"
    }
   ],
   "source": [
    "plt.figure(figsize=[6, 1.5])  # inches\n",
    "plt.clf();\n",
    "plt.plot(x, y, 'b.', label='observed');\n",
    "\n",
    "yhats = [model(x_tst) for _ in range(100)]\n",
    "avgm = np.zeros_like(x_tst[..., 0])\n",
    "for i, yhat in enumerate(yhats):\n",
    "    m = np.squeeze(yhat.mean())\n",
    "    s = np.squeeze(yhat.stddev())\n",
    "    if i < 25:\n",
    "        plt.plot(x_tst, m, 'r', label='ensemble means' if i == 0 else None, linewidth=0.5)\n",
    "    avgm += m\n",
    "plt.plot(x_tst, avgm/len(yhats), 'r', label='overall mean', linewidth=4)\n",
    "\n",
    "plt.ylim(-0.,17);\n",
    "plt.yticks(np.linspace(0, 15, 4)[1:]);\n",
    "plt.xticks(np.linspace(*x_range, num=9));\n",
    "\n",
    "ax=plt.gca();\n",
    "ax.xaxis.set_ticks_position('bottom')\n",
    "ax.yaxis.set_ticks_position('left')\n",
    "ax.spines['left'].set_position(('data', 0))\n",
    "ax.spines['top'].set_visible(False)\n",
    "ax.spines['right'].set_visible(False)\n",
    "plt.legend(loc='center left', fancybox=True, framealpha=0., bbox_to_anchor=(1.05, 0.5))\n",
    "\n",
    "plt.savefig('/tmp/fig3.png', bbox_inches='tight', dpi=300)"
   ]
  },
  {
   "cell_type": "markdown",
   "metadata": {},
   "source": [
    "This is great! Now we can show the potential _range_ of slopes that are potentially available to our model, rather than a simple point estimate for one of them."
   ]
  },
  {
   "cell_type": "code",
   "execution_count": 147,
   "metadata": {},
   "outputs": [
    {
     "data": {
      "text/html": [
       "<div>\n",
       "<style scoped>\n",
       "    .dataframe tbody tr th:only-of-type {\n",
       "        vertical-align: middle;\n",
       "    }\n",
       "\n",
       "    .dataframe tbody tr th {\n",
       "        vertical-align: top;\n",
       "    }\n",
       "\n",
       "    .dataframe thead th {\n",
       "        text-align: right;\n",
       "    }\n",
       "</style>\n",
       "<table border=\"1\" class=\"dataframe\">\n",
       "  <thead>\n",
       "    <tr style=\"text-align: right;\">\n",
       "      <th></th>\n",
       "      <th>0</th>\n",
       "      <th>1</th>\n",
       "      <th>2</th>\n",
       "      <th>3</th>\n",
       "      <th>4</th>\n",
       "      <th>5</th>\n",
       "      <th>6</th>\n",
       "      <th>7</th>\n",
       "      <th>8</th>\n",
       "      <th>9</th>\n",
       "      <th>...</th>\n",
       "      <th>140</th>\n",
       "      <th>141</th>\n",
       "      <th>142</th>\n",
       "      <th>143</th>\n",
       "      <th>144</th>\n",
       "      <th>145</th>\n",
       "      <th>146</th>\n",
       "      <th>147</th>\n",
       "      <th>148</th>\n",
       "      <th>149</th>\n",
       "    </tr>\n",
       "  </thead>\n",
       "  <tbody>\n",
       "    <tr>\n",
       "      <th>0</th>\n",
       "      <td>1.552424</td>\n",
       "      <td>0.760501</td>\n",
       "      <td>1.247313</td>\n",
       "      <td>2.889966</td>\n",
       "      <td>-0.019315</td>\n",
       "      <td>1.615469</td>\n",
       "      <td>1.419850</td>\n",
       "      <td>1.102464</td>\n",
       "      <td>2.056000</td>\n",
       "      <td>1.805199</td>\n",
       "      <td>...</td>\n",
       "      <td>15.329249</td>\n",
       "      <td>14.656571</td>\n",
       "      <td>13.632469</td>\n",
       "      <td>13.842851</td>\n",
       "      <td>12.931072</td>\n",
       "      <td>15.616471</td>\n",
       "      <td>15.720244</td>\n",
       "      <td>13.195615</td>\n",
       "      <td>15.277653</td>\n",
       "      <td>15.613438</td>\n",
       "    </tr>\n",
       "    <tr>\n",
       "      <th>1</th>\n",
       "      <td>2.285291</td>\n",
       "      <td>1.656591</td>\n",
       "      <td>0.767931</td>\n",
       "      <td>2.303886</td>\n",
       "      <td>2.971070</td>\n",
       "      <td>2.616139</td>\n",
       "      <td>4.366810</td>\n",
       "      <td>1.545023</td>\n",
       "      <td>1.820153</td>\n",
       "      <td>1.839453</td>\n",
       "      <td>...</td>\n",
       "      <td>15.415807</td>\n",
       "      <td>14.464284</td>\n",
       "      <td>14.789846</td>\n",
       "      <td>14.755189</td>\n",
       "      <td>14.763699</td>\n",
       "      <td>15.247680</td>\n",
       "      <td>15.235682</td>\n",
       "      <td>17.344900</td>\n",
       "      <td>15.020657</td>\n",
       "      <td>16.875381</td>\n",
       "    </tr>\n",
       "    <tr>\n",
       "      <th>2</th>\n",
       "      <td>2.763784</td>\n",
       "      <td>1.615687</td>\n",
       "      <td>1.130968</td>\n",
       "      <td>1.301431</td>\n",
       "      <td>1.125949</td>\n",
       "      <td>3.058823</td>\n",
       "      <td>2.683483</td>\n",
       "      <td>2.455543</td>\n",
       "      <td>1.391794</td>\n",
       "      <td>2.879734</td>\n",
       "      <td>...</td>\n",
       "      <td>12.219523</td>\n",
       "      <td>14.845323</td>\n",
       "      <td>16.151571</td>\n",
       "      <td>14.999207</td>\n",
       "      <td>16.745764</td>\n",
       "      <td>14.552946</td>\n",
       "      <td>15.100413</td>\n",
       "      <td>16.429148</td>\n",
       "      <td>16.023617</td>\n",
       "      <td>15.120370</td>\n",
       "    </tr>\n",
       "    <tr>\n",
       "      <th>3</th>\n",
       "      <td>2.537127</td>\n",
       "      <td>1.222663</td>\n",
       "      <td>0.457845</td>\n",
       "      <td>1.649814</td>\n",
       "      <td>0.493726</td>\n",
       "      <td>1.981964</td>\n",
       "      <td>0.587914</td>\n",
       "      <td>2.140439</td>\n",
       "      <td>3.066182</td>\n",
       "      <td>2.239419</td>\n",
       "      <td>...</td>\n",
       "      <td>15.144929</td>\n",
       "      <td>14.234408</td>\n",
       "      <td>14.920633</td>\n",
       "      <td>15.364311</td>\n",
       "      <td>13.992259</td>\n",
       "      <td>16.725327</td>\n",
       "      <td>15.024484</td>\n",
       "      <td>15.407141</td>\n",
       "      <td>14.144545</td>\n",
       "      <td>15.011994</td>\n",
       "    </tr>\n",
       "    <tr>\n",
       "      <th>4</th>\n",
       "      <td>2.076679</td>\n",
       "      <td>2.754653</td>\n",
       "      <td>1.810593</td>\n",
       "      <td>2.305200</td>\n",
       "      <td>2.844594</td>\n",
       "      <td>4.239262</td>\n",
       "      <td>1.295198</td>\n",
       "      <td>2.134102</td>\n",
       "      <td>3.025796</td>\n",
       "      <td>3.282442</td>\n",
       "      <td>...</td>\n",
       "      <td>15.417192</td>\n",
       "      <td>15.299866</td>\n",
       "      <td>15.411624</td>\n",
       "      <td>15.762377</td>\n",
       "      <td>13.299819</td>\n",
       "      <td>13.680159</td>\n",
       "      <td>15.194858</td>\n",
       "      <td>13.504980</td>\n",
       "      <td>15.665866</td>\n",
       "      <td>16.105949</td>\n",
       "    </tr>\n",
       "    <tr>\n",
       "      <th>...</th>\n",
       "      <td>...</td>\n",
       "      <td>...</td>\n",
       "      <td>...</td>\n",
       "      <td>...</td>\n",
       "      <td>...</td>\n",
       "      <td>...</td>\n",
       "      <td>...</td>\n",
       "      <td>...</td>\n",
       "      <td>...</td>\n",
       "      <td>...</td>\n",
       "      <td>...</td>\n",
       "      <td>...</td>\n",
       "      <td>...</td>\n",
       "      <td>...</td>\n",
       "      <td>...</td>\n",
       "      <td>...</td>\n",
       "      <td>...</td>\n",
       "      <td>...</td>\n",
       "      <td>...</td>\n",
       "      <td>...</td>\n",
       "      <td>...</td>\n",
       "    </tr>\n",
       "    <tr>\n",
       "      <th>995</th>\n",
       "      <td>0.326951</td>\n",
       "      <td>1.771669</td>\n",
       "      <td>1.078336</td>\n",
       "      <td>2.181252</td>\n",
       "      <td>1.685958</td>\n",
       "      <td>2.830403</td>\n",
       "      <td>3.775921</td>\n",
       "      <td>2.034803</td>\n",
       "      <td>4.808228</td>\n",
       "      <td>1.866332</td>\n",
       "      <td>...</td>\n",
       "      <td>14.983624</td>\n",
       "      <td>14.386356</td>\n",
       "      <td>13.312456</td>\n",
       "      <td>14.529682</td>\n",
       "      <td>15.475427</td>\n",
       "      <td>14.980182</td>\n",
       "      <td>16.628668</td>\n",
       "      <td>18.062618</td>\n",
       "      <td>13.879256</td>\n",
       "      <td>14.230822</td>\n",
       "    </tr>\n",
       "    <tr>\n",
       "      <th>996</th>\n",
       "      <td>2.054746</td>\n",
       "      <td>1.449341</td>\n",
       "      <td>3.028808</td>\n",
       "      <td>2.825797</td>\n",
       "      <td>2.944778</td>\n",
       "      <td>1.988732</td>\n",
       "      <td>3.033177</td>\n",
       "      <td>1.855427</td>\n",
       "      <td>3.717828</td>\n",
       "      <td>3.859599</td>\n",
       "      <td>...</td>\n",
       "      <td>13.721714</td>\n",
       "      <td>15.243591</td>\n",
       "      <td>14.689014</td>\n",
       "      <td>14.946458</td>\n",
       "      <td>14.956748</td>\n",
       "      <td>16.026114</td>\n",
       "      <td>14.071601</td>\n",
       "      <td>16.064585</td>\n",
       "      <td>16.046677</td>\n",
       "      <td>15.722652</td>\n",
       "    </tr>\n",
       "    <tr>\n",
       "      <th>997</th>\n",
       "      <td>1.375680</td>\n",
       "      <td>0.055361</td>\n",
       "      <td>2.123269</td>\n",
       "      <td>1.937333</td>\n",
       "      <td>3.366348</td>\n",
       "      <td>2.511569</td>\n",
       "      <td>2.968378</td>\n",
       "      <td>2.270982</td>\n",
       "      <td>0.848260</td>\n",
       "      <td>1.530303</td>\n",
       "      <td>...</td>\n",
       "      <td>14.423787</td>\n",
       "      <td>14.953510</td>\n",
       "      <td>14.526228</td>\n",
       "      <td>14.202236</td>\n",
       "      <td>15.711918</td>\n",
       "      <td>15.476938</td>\n",
       "      <td>14.927301</td>\n",
       "      <td>14.204308</td>\n",
       "      <td>15.211013</td>\n",
       "      <td>15.414977</td>\n",
       "    </tr>\n",
       "    <tr>\n",
       "      <th>998</th>\n",
       "      <td>2.115325</td>\n",
       "      <td>2.284934</td>\n",
       "      <td>2.866725</td>\n",
       "      <td>2.557662</td>\n",
       "      <td>1.617716</td>\n",
       "      <td>2.563022</td>\n",
       "      <td>2.911752</td>\n",
       "      <td>3.019732</td>\n",
       "      <td>4.800770</td>\n",
       "      <td>1.777719</td>\n",
       "      <td>...</td>\n",
       "      <td>14.888395</td>\n",
       "      <td>13.514606</td>\n",
       "      <td>15.972212</td>\n",
       "      <td>13.441167</td>\n",
       "      <td>15.166151</td>\n",
       "      <td>13.597878</td>\n",
       "      <td>14.477619</td>\n",
       "      <td>15.938074</td>\n",
       "      <td>15.794999</td>\n",
       "      <td>15.619616</td>\n",
       "    </tr>\n",
       "    <tr>\n",
       "      <th>999</th>\n",
       "      <td>1.037947</td>\n",
       "      <td>0.838325</td>\n",
       "      <td>-0.561598</td>\n",
       "      <td>2.302531</td>\n",
       "      <td>0.915627</td>\n",
       "      <td>2.376497</td>\n",
       "      <td>3.014510</td>\n",
       "      <td>3.595249</td>\n",
       "      <td>2.601297</td>\n",
       "      <td>3.908179</td>\n",
       "      <td>...</td>\n",
       "      <td>15.076116</td>\n",
       "      <td>14.843619</td>\n",
       "      <td>14.439859</td>\n",
       "      <td>15.582201</td>\n",
       "      <td>13.736297</td>\n",
       "      <td>15.189665</td>\n",
       "      <td>16.442295</td>\n",
       "      <td>16.268366</td>\n",
       "      <td>14.845161</td>\n",
       "      <td>16.412560</td>\n",
       "    </tr>\n",
       "  </tbody>\n",
       "</table>\n",
       "<p>1000 rows × 150 columns</p>\n",
       "</div>"
      ],
      "text/plain": [
       "          0         1         2         3         4         5         6    \\\n",
       "0    1.552424  0.760501  1.247313  2.889966 -0.019315  1.615469  1.419850   \n",
       "1    2.285291  1.656591  0.767931  2.303886  2.971070  2.616139  4.366810   \n",
       "2    2.763784  1.615687  1.130968  1.301431  1.125949  3.058823  2.683483   \n",
       "3    2.537127  1.222663  0.457845  1.649814  0.493726  1.981964  0.587914   \n",
       "4    2.076679  2.754653  1.810593  2.305200  2.844594  4.239262  1.295198   \n",
       "..        ...       ...       ...       ...       ...       ...       ...   \n",
       "995  0.326951  1.771669  1.078336  2.181252  1.685958  2.830403  3.775921   \n",
       "996  2.054746  1.449341  3.028808  2.825797  2.944778  1.988732  3.033177   \n",
       "997  1.375680  0.055361  2.123269  1.937333  3.366348  2.511569  2.968378   \n",
       "998  2.115325  2.284934  2.866725  2.557662  1.617716  2.563022  2.911752   \n",
       "999  1.037947  0.838325 -0.561598  2.302531  0.915627  2.376497  3.014510   \n",
       "\n",
       "          7         8         9    ...        140        141        142  \\\n",
       "0    1.102464  2.056000  1.805199  ...  15.329249  14.656571  13.632469   \n",
       "1    1.545023  1.820153  1.839453  ...  15.415807  14.464284  14.789846   \n",
       "2    2.455543  1.391794  2.879734  ...  12.219523  14.845323  16.151571   \n",
       "3    2.140439  3.066182  2.239419  ...  15.144929  14.234408  14.920633   \n",
       "4    2.134102  3.025796  3.282442  ...  15.417192  15.299866  15.411624   \n",
       "..        ...       ...       ...  ...        ...        ...        ...   \n",
       "995  2.034803  4.808228  1.866332  ...  14.983624  14.386356  13.312456   \n",
       "996  1.855427  3.717828  3.859599  ...  13.721714  15.243591  14.689014   \n",
       "997  2.270982  0.848260  1.530303  ...  14.423787  14.953510  14.526228   \n",
       "998  3.019732  4.800770  1.777719  ...  14.888395  13.514606  15.972212   \n",
       "999  3.595249  2.601297  3.908179  ...  15.076116  14.843619  14.439859   \n",
       "\n",
       "           143        144        145        146        147        148  \\\n",
       "0    13.842851  12.931072  15.616471  15.720244  13.195615  15.277653   \n",
       "1    14.755189  14.763699  15.247680  15.235682  17.344900  15.020657   \n",
       "2    14.999207  16.745764  14.552946  15.100413  16.429148  16.023617   \n",
       "3    15.364311  13.992259  16.725327  15.024484  15.407141  14.144545   \n",
       "4    15.762377  13.299819  13.680159  15.194858  13.504980  15.665866   \n",
       "..         ...        ...        ...        ...        ...        ...   \n",
       "995  14.529682  15.475427  14.980182  16.628668  18.062618  13.879256   \n",
       "996  14.946458  14.956748  16.026114  14.071601  16.064585  16.046677   \n",
       "997  14.202236  15.711918  15.476938  14.927301  14.204308  15.211013   \n",
       "998  13.441167  15.166151  13.597878  14.477619  15.938074  15.794999   \n",
       "999  15.582201  13.736297  15.189665  16.442295  16.268366  14.845161   \n",
       "\n",
       "           149  \n",
       "0    15.613438  \n",
       "1    16.875381  \n",
       "2    15.120370  \n",
       "3    15.011994  \n",
       "4    16.105949  \n",
       "..         ...  \n",
       "995  14.230822  \n",
       "996  15.722652  \n",
       "997  15.414977  \n",
       "998  15.619616  \n",
       "999  16.412560  \n",
       "\n",
       "[1000 rows x 150 columns]"
      ]
     },
     "execution_count": 147,
     "metadata": {},
     "output_type": "execute_result"
    }
   ],
   "source": [
    "ten = yhat.sample(1000)\n",
    "pd.DataFrame(ten.numpy().reshape(1000, 150))"
   ]
  },
  {
   "cell_type": "code",
   "execution_count": 148,
   "metadata": {},
   "outputs": [
    {
     "data": {
      "text/plain": [
       "<matplotlib.axes._subplots.AxesSubplot at 0x138f5bb70>"
      ]
     },
     "execution_count": 148,
     "metadata": {},
     "output_type": "execute_result"
    },
    {
     "data": {
      "image/png": "[encoded data removed]",
      "text/plain": [
       "<Figure size 432x288 with 1 Axes>"
      ]
     },
     "metadata": {
      "needs_background": "light"
     },
     "output_type": "display_data"
    }
   ],
   "source": [
    "df = pd.DataFrame(ten.numpy().reshape(1000, 150))\n",
    "df.mean().plot()"
   ]
  },
  {
   "cell_type": "code",
   "execution_count": 149,
   "metadata": {},
   "outputs": [
    {
     "data": {
      "text/plain": [
       "<matplotlib.axes._subplots.AxesSubplot at 0x13a7fe5f8>"
      ]
     },
     "execution_count": 149,
     "metadata": {},
     "output_type": "execute_result"
    },
    {
     "data": {
      "image/png": "[encoded data removed]",
      "text/plain": [
       "<Figure size 432x288 with 1 Axes>"
      ]
     },
     "metadata": {
      "needs_background": "light"
     },
     "output_type": "display_data"
    }
   ],
   "source": [
    "df.std().plot()"
   ]
  }
 ],
 "metadata": {
  "kernelspec": {
   "display_name": "Python 3",
   "language": "python",
   "name": "python3"
  },
  "language_info": {
   "codemirror_mode": {
    "name": "ipython",
    "version": 3
   },
   "file_extension": ".py",
   "mimetype": "text/x-python",
   "name": "python",
   "nbconvert_exporter": "python",
   "pygments_lexer": "ipython3",
   "version": "3.7.2"
  }
 },
 "nbformat": 4,
 "nbformat_minor": 4
}
